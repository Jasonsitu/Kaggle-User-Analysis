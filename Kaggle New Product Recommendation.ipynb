{
 "cells": [
  {
   "cell_type": "markdown",
   "metadata": {},
   "source": [
    "# Increasing Kaggle Revenue: Analyzing user data to recommend the best new product\n",
    "In this project, we will create recommendations for increasing revenue at Kaggle, an online community for data science professionals. We will analyze a Kaggle customer survey, attempting to learn if there are any indicators of potential revenue growth for the company. To make our recommendations, we will try to learn:\n",
    "\n",
    "Is there market potential for a \"freemium\" kernel product?\n",
    "Is there market potential for a consulting marketplace?\n",
    "Based on current user data, which is more likely to be more profitable?"
   ]
  },
  {
   "cell_type": "markdown",
   "metadata": {},
   "source": [
    "# Data Cleaning\n",
    "To begin, we import and clean the dataset provided from Kaggle. Four datasets are provided, which we will read in as separate files. \n",
    "\n",
    "Only the 'multiple_choice_responses.csv' file, which contains the answers to all multiple choice questions, will be relevant for this analysis."
   ]
  },
  {
   "cell_type": "code",
   "execution_count": 2,
   "metadata": {},
   "outputs": [
    {
     "name": "stdout",
     "output_type": "stream",
     "text": [
      "<class 'pandas.core.frame.DataFrame'>\n",
      "RangeIndex: 19718 entries, 0 to 19717\n",
      "Columns: 246 entries, Time from Start to Finish (seconds) to Q34_OTHER_TEXT\n",
      "dtypes: object(246)\n",
      "memory usage: 37.0+ MB\n"
     ]
    },
    {
     "name": "stderr",
     "output_type": "stream",
     "text": [
      "/anaconda3/lib/python3.6/site-packages/IPython/core/interactiveshell.py:2785: DtypeWarning:\n",
      "\n",
      "Columns (0,3,7,19,34,47,49,50,51,52,53,54,68,81,94,96,109,115,130,139,147,154,167,180,193,206,219,232,245) have mixed types. Specify dtype option on import or set low_memory=False.\n",
      "\n"
     ]
    },
    {
     "data": {
      "text/html": [
       "<div>\n",
       "<style scoped>\n",
       "    .dataframe tbody tr th:only-of-type {\n",
       "        vertical-align: middle;\n",
       "    }\n",
       "\n",
       "    .dataframe tbody tr th {\n",
       "        vertical-align: top;\n",
       "    }\n",
       "\n",
       "    .dataframe thead th {\n",
       "        text-align: right;\n",
       "    }\n",
       "</style>\n",
       "<table border=\"1\" class=\"dataframe\">\n",
       "  <thead>\n",
       "    <tr style=\"text-align: right;\">\n",
       "      <th></th>\n",
       "      <th>Time from Start to Finish (seconds)</th>\n",
       "      <th>Q1</th>\n",
       "      <th>Q2</th>\n",
       "      <th>Q2_OTHER_TEXT</th>\n",
       "      <th>Q3</th>\n",
       "      <th>Q4</th>\n",
       "      <th>Q5</th>\n",
       "      <th>Q5_OTHER_TEXT</th>\n",
       "      <th>Q6</th>\n",
       "      <th>Q7</th>\n",
       "      <th>...</th>\n",
       "      <th>Q34_Part_4</th>\n",
       "      <th>Q34_Part_5</th>\n",
       "      <th>Q34_Part_6</th>\n",
       "      <th>Q34_Part_7</th>\n",
       "      <th>Q34_Part_8</th>\n",
       "      <th>Q34_Part_9</th>\n",
       "      <th>Q34_Part_10</th>\n",
       "      <th>Q34_Part_11</th>\n",
       "      <th>Q34_Part_12</th>\n",
       "      <th>Q34_OTHER_TEXT</th>\n",
       "    </tr>\n",
       "  </thead>\n",
       "  <tbody>\n",
       "    <tr>\n",
       "      <th>0</th>\n",
       "      <td>Duration (in seconds)</td>\n",
       "      <td>What is your age (# years)?</td>\n",
       "      <td>What is your gender? - Selected Choice</td>\n",
       "      <td>What is your gender? - Prefer to self-describe...</td>\n",
       "      <td>In which country do you currently reside?</td>\n",
       "      <td>What is the highest level of formal education ...</td>\n",
       "      <td>Select the title most similar to your current ...</td>\n",
       "      <td>Select the title most similar to your current ...</td>\n",
       "      <td>What is the size of the company where you are ...</td>\n",
       "      <td>Approximately how many individuals are respons...</td>\n",
       "      <td>...</td>\n",
       "      <td>Which of the following relational database pro...</td>\n",
       "      <td>Which of the following relational database pro...</td>\n",
       "      <td>Which of the following relational database pro...</td>\n",
       "      <td>Which of the following relational database pro...</td>\n",
       "      <td>Which of the following relational database pro...</td>\n",
       "      <td>Which of the following relational database pro...</td>\n",
       "      <td>Which of the following relational database pro...</td>\n",
       "      <td>Which of the following relational database pro...</td>\n",
       "      <td>Which of the following relational database pro...</td>\n",
       "      <td>Which of the following relational database pro...</td>\n",
       "    </tr>\n",
       "    <tr>\n",
       "      <th>1</th>\n",
       "      <td>510</td>\n",
       "      <td>22-24</td>\n",
       "      <td>Male</td>\n",
       "      <td>-1</td>\n",
       "      <td>France</td>\n",
       "      <td>Master’s degree</td>\n",
       "      <td>Software Engineer</td>\n",
       "      <td>-1</td>\n",
       "      <td>1000-9,999 employees</td>\n",
       "      <td>0</td>\n",
       "      <td>...</td>\n",
       "      <td>NaN</td>\n",
       "      <td>NaN</td>\n",
       "      <td>NaN</td>\n",
       "      <td>NaN</td>\n",
       "      <td>NaN</td>\n",
       "      <td>NaN</td>\n",
       "      <td>NaN</td>\n",
       "      <td>NaN</td>\n",
       "      <td>NaN</td>\n",
       "      <td>-1</td>\n",
       "    </tr>\n",
       "    <tr>\n",
       "      <th>2</th>\n",
       "      <td>423</td>\n",
       "      <td>40-44</td>\n",
       "      <td>Male</td>\n",
       "      <td>-1</td>\n",
       "      <td>India</td>\n",
       "      <td>Professional degree</td>\n",
       "      <td>Software Engineer</td>\n",
       "      <td>-1</td>\n",
       "      <td>&gt; 10,000 employees</td>\n",
       "      <td>20+</td>\n",
       "      <td>...</td>\n",
       "      <td>NaN</td>\n",
       "      <td>NaN</td>\n",
       "      <td>NaN</td>\n",
       "      <td>NaN</td>\n",
       "      <td>NaN</td>\n",
       "      <td>NaN</td>\n",
       "      <td>NaN</td>\n",
       "      <td>NaN</td>\n",
       "      <td>NaN</td>\n",
       "      <td>-1</td>\n",
       "    </tr>\n",
       "    <tr>\n",
       "      <th>3</th>\n",
       "      <td>83</td>\n",
       "      <td>55-59</td>\n",
       "      <td>Female</td>\n",
       "      <td>-1</td>\n",
       "      <td>Germany</td>\n",
       "      <td>Professional degree</td>\n",
       "      <td>NaN</td>\n",
       "      <td>-1</td>\n",
       "      <td>NaN</td>\n",
       "      <td>NaN</td>\n",
       "      <td>...</td>\n",
       "      <td>NaN</td>\n",
       "      <td>NaN</td>\n",
       "      <td>NaN</td>\n",
       "      <td>NaN</td>\n",
       "      <td>NaN</td>\n",
       "      <td>NaN</td>\n",
       "      <td>NaN</td>\n",
       "      <td>NaN</td>\n",
       "      <td>NaN</td>\n",
       "      <td>-1</td>\n",
       "    </tr>\n",
       "    <tr>\n",
       "      <th>4</th>\n",
       "      <td>391</td>\n",
       "      <td>40-44</td>\n",
       "      <td>Male</td>\n",
       "      <td>-1</td>\n",
       "      <td>Australia</td>\n",
       "      <td>Master’s degree</td>\n",
       "      <td>Other</td>\n",
       "      <td>0</td>\n",
       "      <td>&gt; 10,000 employees</td>\n",
       "      <td>20+</td>\n",
       "      <td>...</td>\n",
       "      <td>NaN</td>\n",
       "      <td>NaN</td>\n",
       "      <td>NaN</td>\n",
       "      <td>NaN</td>\n",
       "      <td>NaN</td>\n",
       "      <td>Azure SQL Database</td>\n",
       "      <td>NaN</td>\n",
       "      <td>NaN</td>\n",
       "      <td>NaN</td>\n",
       "      <td>-1</td>\n",
       "    </tr>\n",
       "  </tbody>\n",
       "</table>\n",
       "<p>5 rows × 246 columns</p>\n",
       "</div>"
      ],
      "text/plain": [
       "  Time from Start to Finish (seconds)                           Q1  \\\n",
       "0               Duration (in seconds)  What is your age (# years)?   \n",
       "1                                 510                        22-24   \n",
       "2                                 423                        40-44   \n",
       "3                                  83                        55-59   \n",
       "4                                 391                        40-44   \n",
       "\n",
       "                                       Q2  \\\n",
       "0  What is your gender? - Selected Choice   \n",
       "1                                    Male   \n",
       "2                                    Male   \n",
       "3                                  Female   \n",
       "4                                    Male   \n",
       "\n",
       "                                       Q2_OTHER_TEXT  \\\n",
       "0  What is your gender? - Prefer to self-describe...   \n",
       "1                                                 -1   \n",
       "2                                                 -1   \n",
       "3                                                 -1   \n",
       "4                                                 -1   \n",
       "\n",
       "                                          Q3  \\\n",
       "0  In which country do you currently reside?   \n",
       "1                                     France   \n",
       "2                                      India   \n",
       "3                                    Germany   \n",
       "4                                  Australia   \n",
       "\n",
       "                                                  Q4  \\\n",
       "0  What is the highest level of formal education ...   \n",
       "1                                    Master’s degree   \n",
       "2                                Professional degree   \n",
       "3                                Professional degree   \n",
       "4                                    Master’s degree   \n",
       "\n",
       "                                                  Q5  \\\n",
       "0  Select the title most similar to your current ...   \n",
       "1                                  Software Engineer   \n",
       "2                                  Software Engineer   \n",
       "3                                                NaN   \n",
       "4                                              Other   \n",
       "\n",
       "                                       Q5_OTHER_TEXT  \\\n",
       "0  Select the title most similar to your current ...   \n",
       "1                                                 -1   \n",
       "2                                                 -1   \n",
       "3                                                 -1   \n",
       "4                                                  0   \n",
       "\n",
       "                                                  Q6  \\\n",
       "0  What is the size of the company where you are ...   \n",
       "1                               1000-9,999 employees   \n",
       "2                                 > 10,000 employees   \n",
       "3                                                NaN   \n",
       "4                                 > 10,000 employees   \n",
       "\n",
       "                                                  Q7  \\\n",
       "0  Approximately how many individuals are respons...   \n",
       "1                                                  0   \n",
       "2                                                20+   \n",
       "3                                                NaN   \n",
       "4                                                20+   \n",
       "\n",
       "                         ...                          \\\n",
       "0                        ...                           \n",
       "1                        ...                           \n",
       "2                        ...                           \n",
       "3                        ...                           \n",
       "4                        ...                           \n",
       "\n",
       "                                          Q34_Part_4  \\\n",
       "0  Which of the following relational database pro...   \n",
       "1                                                NaN   \n",
       "2                                                NaN   \n",
       "3                                                NaN   \n",
       "4                                                NaN   \n",
       "\n",
       "                                          Q34_Part_5  \\\n",
       "0  Which of the following relational database pro...   \n",
       "1                                                NaN   \n",
       "2                                                NaN   \n",
       "3                                                NaN   \n",
       "4                                                NaN   \n",
       "\n",
       "                                          Q34_Part_6  \\\n",
       "0  Which of the following relational database pro...   \n",
       "1                                                NaN   \n",
       "2                                                NaN   \n",
       "3                                                NaN   \n",
       "4                                                NaN   \n",
       "\n",
       "                                          Q34_Part_7  \\\n",
       "0  Which of the following relational database pro...   \n",
       "1                                                NaN   \n",
       "2                                                NaN   \n",
       "3                                                NaN   \n",
       "4                                                NaN   \n",
       "\n",
       "                                          Q34_Part_8  \\\n",
       "0  Which of the following relational database pro...   \n",
       "1                                                NaN   \n",
       "2                                                NaN   \n",
       "3                                                NaN   \n",
       "4                                                NaN   \n",
       "\n",
       "                                          Q34_Part_9  \\\n",
       "0  Which of the following relational database pro...   \n",
       "1                                                NaN   \n",
       "2                                                NaN   \n",
       "3                                                NaN   \n",
       "4                                 Azure SQL Database   \n",
       "\n",
       "                                         Q34_Part_10  \\\n",
       "0  Which of the following relational database pro...   \n",
       "1                                                NaN   \n",
       "2                                                NaN   \n",
       "3                                                NaN   \n",
       "4                                                NaN   \n",
       "\n",
       "                                         Q34_Part_11  \\\n",
       "0  Which of the following relational database pro...   \n",
       "1                                                NaN   \n",
       "2                                                NaN   \n",
       "3                                                NaN   \n",
       "4                                                NaN   \n",
       "\n",
       "                                         Q34_Part_12  \\\n",
       "0  Which of the following relational database pro...   \n",
       "1                                                NaN   \n",
       "2                                                NaN   \n",
       "3                                                NaN   \n",
       "4                                                NaN   \n",
       "\n",
       "                                      Q34_OTHER_TEXT  \n",
       "0  Which of the following relational database pro...  \n",
       "1                                                 -1  \n",
       "2                                                 -1  \n",
       "3                                                 -1  \n",
       "4                                                 -1  \n",
       "\n",
       "[5 rows x 246 columns]"
      ]
     },
     "execution_count": 2,
     "metadata": {},
     "output_type": "execute_result"
    }
   ],
   "source": [
    "# importing libraries\n",
    "import numpy as np\n",
    "import pandas as pd\n",
    "import matplotlib as plt\n",
    "%matplotlib inline\n",
    "import chart_studio.plotly as py\n",
    "import plotly.offline as pyoff\n",
    "import plotly.graph_objs as go\n",
    "\n",
    "# reading in csv file\n",
    "mc = pd.read_csv('mcr.csv')\n",
    "\n",
    "# exploring overall data\n",
    "mc.info()\n",
    "mc.head()"
   ]
  },
  {
   "cell_type": "code",
   "execution_count": 3,
   "metadata": {},
   "outputs": [
    {
     "data": {
      "text/html": [
       "<div>\n",
       "<style scoped>\n",
       "    .dataframe tbody tr th:only-of-type {\n",
       "        vertical-align: middle;\n",
       "    }\n",
       "\n",
       "    .dataframe tbody tr th {\n",
       "        vertical-align: top;\n",
       "    }\n",
       "\n",
       "    .dataframe thead th {\n",
       "        text-align: right;\n",
       "    }\n",
       "</style>\n",
       "<table border=\"1\" class=\"dataframe\">\n",
       "  <thead>\n",
       "    <tr style=\"text-align: right;\">\n",
       "      <th></th>\n",
       "      <th>Duration (in seconds)</th>\n",
       "      <th>What is your age (# years)?</th>\n",
       "      <th>What is your gender? - Selected Choice</th>\n",
       "      <th>What is your gender? - Prefer to self-describe - Text</th>\n",
       "      <th>In which country do you currently reside?</th>\n",
       "      <th>What is the highest level of formal education that you have attained or plan to attain within the next 2 years?</th>\n",
       "      <th>Select the title most similar to your current role (or most recent title if retired): - Selected Choice</th>\n",
       "      <th>Select the title most similar to your current role (or most recent title if retired): - Other - Text</th>\n",
       "      <th>What is the size of the company where you are employed?</th>\n",
       "      <th>Approximately how many individuals are responsible for data science workloads at your place of business?</th>\n",
       "      <th>...</th>\n",
       "      <th>Which of the following relational database products do you use on a regular basis? (Select all that apply) - Selected Choice - Microsoft SQL Server</th>\n",
       "      <th>Which of the following relational database products do you use on a regular basis? (Select all that apply) - Selected Choice - Oracle Database</th>\n",
       "      <th>Which of the following relational database products do you use on a regular basis? (Select all that apply) - Selected Choice - Microsoft Access</th>\n",
       "      <th>Which of the following relational database products do you use on a regular basis? (Select all that apply) - Selected Choice - AWS Relational Database Service</th>\n",
       "      <th>Which of the following relational database products do you use on a regular basis? (Select all that apply) - Selected Choice - AWS DynamoDB</th>\n",
       "      <th>Which of the following relational database products do you use on a regular basis? (Select all that apply) - Selected Choice - Azure SQL Database</th>\n",
       "      <th>Which of the following relational database products do you use on a regular basis? (Select all that apply) - Selected Choice - Google Cloud SQL</th>\n",
       "      <th>Which of the following relational database products do you use on a regular basis? (Select all that apply) - Selected Choice - None</th>\n",
       "      <th>Which of the following relational database products do you use on a regular basis? (Select all that apply) - Selected Choice - Other</th>\n",
       "      <th>Which of the following relational database products do you use on a regular basis? (Select all that apply) - Other - Text</th>\n",
       "    </tr>\n",
       "  </thead>\n",
       "  <tbody>\n",
       "    <tr>\n",
       "      <th>1</th>\n",
       "      <td>510</td>\n",
       "      <td>22-24</td>\n",
       "      <td>Male</td>\n",
       "      <td>-1</td>\n",
       "      <td>France</td>\n",
       "      <td>Master’s degree</td>\n",
       "      <td>Software Engineer</td>\n",
       "      <td>-1</td>\n",
       "      <td>1000-9,999 employees</td>\n",
       "      <td>0</td>\n",
       "      <td>...</td>\n",
       "      <td>NaN</td>\n",
       "      <td>NaN</td>\n",
       "      <td>NaN</td>\n",
       "      <td>NaN</td>\n",
       "      <td>NaN</td>\n",
       "      <td>NaN</td>\n",
       "      <td>NaN</td>\n",
       "      <td>NaN</td>\n",
       "      <td>NaN</td>\n",
       "      <td>-1</td>\n",
       "    </tr>\n",
       "    <tr>\n",
       "      <th>2</th>\n",
       "      <td>423</td>\n",
       "      <td>40-44</td>\n",
       "      <td>Male</td>\n",
       "      <td>-1</td>\n",
       "      <td>India</td>\n",
       "      <td>Professional degree</td>\n",
       "      <td>Software Engineer</td>\n",
       "      <td>-1</td>\n",
       "      <td>&gt; 10,000 employees</td>\n",
       "      <td>20+</td>\n",
       "      <td>...</td>\n",
       "      <td>NaN</td>\n",
       "      <td>NaN</td>\n",
       "      <td>NaN</td>\n",
       "      <td>NaN</td>\n",
       "      <td>NaN</td>\n",
       "      <td>NaN</td>\n",
       "      <td>NaN</td>\n",
       "      <td>NaN</td>\n",
       "      <td>NaN</td>\n",
       "      <td>-1</td>\n",
       "    </tr>\n",
       "    <tr>\n",
       "      <th>3</th>\n",
       "      <td>83</td>\n",
       "      <td>55-59</td>\n",
       "      <td>Female</td>\n",
       "      <td>-1</td>\n",
       "      <td>Germany</td>\n",
       "      <td>Professional degree</td>\n",
       "      <td>NaN</td>\n",
       "      <td>-1</td>\n",
       "      <td>NaN</td>\n",
       "      <td>NaN</td>\n",
       "      <td>...</td>\n",
       "      <td>NaN</td>\n",
       "      <td>NaN</td>\n",
       "      <td>NaN</td>\n",
       "      <td>NaN</td>\n",
       "      <td>NaN</td>\n",
       "      <td>NaN</td>\n",
       "      <td>NaN</td>\n",
       "      <td>NaN</td>\n",
       "      <td>NaN</td>\n",
       "      <td>-1</td>\n",
       "    </tr>\n",
       "    <tr>\n",
       "      <th>4</th>\n",
       "      <td>391</td>\n",
       "      <td>40-44</td>\n",
       "      <td>Male</td>\n",
       "      <td>-1</td>\n",
       "      <td>Australia</td>\n",
       "      <td>Master’s degree</td>\n",
       "      <td>Other</td>\n",
       "      <td>0</td>\n",
       "      <td>&gt; 10,000 employees</td>\n",
       "      <td>20+</td>\n",
       "      <td>...</td>\n",
       "      <td>NaN</td>\n",
       "      <td>NaN</td>\n",
       "      <td>NaN</td>\n",
       "      <td>NaN</td>\n",
       "      <td>NaN</td>\n",
       "      <td>Azure SQL Database</td>\n",
       "      <td>NaN</td>\n",
       "      <td>NaN</td>\n",
       "      <td>NaN</td>\n",
       "      <td>-1</td>\n",
       "    </tr>\n",
       "    <tr>\n",
       "      <th>5</th>\n",
       "      <td>392</td>\n",
       "      <td>22-24</td>\n",
       "      <td>Male</td>\n",
       "      <td>-1</td>\n",
       "      <td>India</td>\n",
       "      <td>Bachelor’s degree</td>\n",
       "      <td>Other</td>\n",
       "      <td>1</td>\n",
       "      <td>0-49 employees</td>\n",
       "      <td>0</td>\n",
       "      <td>...</td>\n",
       "      <td>NaN</td>\n",
       "      <td>NaN</td>\n",
       "      <td>NaN</td>\n",
       "      <td>NaN</td>\n",
       "      <td>NaN</td>\n",
       "      <td>NaN</td>\n",
       "      <td>NaN</td>\n",
       "      <td>NaN</td>\n",
       "      <td>NaN</td>\n",
       "      <td>-1</td>\n",
       "    </tr>\n",
       "  </tbody>\n",
       "</table>\n",
       "<p>5 rows × 246 columns</p>\n",
       "</div>"
      ],
      "text/plain": [
       "0 Duration (in seconds) What is your age (# years)?  \\\n",
       "1                   510                       22-24   \n",
       "2                   423                       40-44   \n",
       "3                    83                       55-59   \n",
       "4                   391                       40-44   \n",
       "5                   392                       22-24   \n",
       "\n",
       "0 What is your gender? - Selected Choice  \\\n",
       "1                                   Male   \n",
       "2                                   Male   \n",
       "3                                 Female   \n",
       "4                                   Male   \n",
       "5                                   Male   \n",
       "\n",
       "0 What is your gender? - Prefer to self-describe - Text  \\\n",
       "1                                                 -1      \n",
       "2                                                 -1      \n",
       "3                                                 -1      \n",
       "4                                                 -1      \n",
       "5                                                 -1      \n",
       "\n",
       "0 In which country do you currently reside?  \\\n",
       "1                                    France   \n",
       "2                                     India   \n",
       "3                                   Germany   \n",
       "4                                 Australia   \n",
       "5                                     India   \n",
       "\n",
       "0 What is the highest level of formal education that you have attained or plan to attain within the next 2 years?  \\\n",
       "1                                    Master’s degree                                                                \n",
       "2                                Professional degree                                                                \n",
       "3                                Professional degree                                                                \n",
       "4                                    Master’s degree                                                                \n",
       "5                                  Bachelor’s degree                                                                \n",
       "\n",
       "0 Select the title most similar to your current role (or most recent title if retired): - Selected Choice  \\\n",
       "1                                  Software Engineer                                                        \n",
       "2                                  Software Engineer                                                        \n",
       "3                                                NaN                                                        \n",
       "4                                              Other                                                        \n",
       "5                                              Other                                                        \n",
       "\n",
       "0 Select the title most similar to your current role (or most recent title if retired): - Other - Text  \\\n",
       "1                                                 -1                                                     \n",
       "2                                                 -1                                                     \n",
       "3                                                 -1                                                     \n",
       "4                                                  0                                                     \n",
       "5                                                  1                                                     \n",
       "\n",
       "0 What is the size of the company where you are employed?  \\\n",
       "1                               1000-9,999 employees        \n",
       "2                                 > 10,000 employees        \n",
       "3                                                NaN        \n",
       "4                                 > 10,000 employees        \n",
       "5                                     0-49 employees        \n",
       "\n",
       "0 Approximately how many individuals are responsible for data science workloads at your place of business?  \\\n",
       "1                                                  0                                                         \n",
       "2                                                20+                                                         \n",
       "3                                                NaN                                                         \n",
       "4                                                20+                                                         \n",
       "5                                                  0                                                         \n",
       "\n",
       "0                                                            ...                                                             \\\n",
       "1                                                            ...                                                              \n",
       "2                                                            ...                                                              \n",
       "3                                                            ...                                                              \n",
       "4                                                            ...                                                              \n",
       "5                                                            ...                                                              \n",
       "\n",
       "0 Which of the following relational database products do you use on a regular basis? (Select all that apply) - Selected Choice - Microsoft SQL Server  \\\n",
       "1                                                NaN                                                                                                    \n",
       "2                                                NaN                                                                                                    \n",
       "3                                                NaN                                                                                                    \n",
       "4                                                NaN                                                                                                    \n",
       "5                                                NaN                                                                                                    \n",
       "\n",
       "0 Which of the following relational database products do you use on a regular basis? (Select all that apply) - Selected Choice - Oracle Database  \\\n",
       "1                                                NaN                                                                                               \n",
       "2                                                NaN                                                                                               \n",
       "3                                                NaN                                                                                               \n",
       "4                                                NaN                                                                                               \n",
       "5                                                NaN                                                                                               \n",
       "\n",
       "0 Which of the following relational database products do you use on a regular basis? (Select all that apply) - Selected Choice - Microsoft Access  \\\n",
       "1                                                NaN                                                                                                \n",
       "2                                                NaN                                                                                                \n",
       "3                                                NaN                                                                                                \n",
       "4                                                NaN                                                                                                \n",
       "5                                                NaN                                                                                                \n",
       "\n",
       "0 Which of the following relational database products do you use on a regular basis? (Select all that apply) - Selected Choice - AWS Relational Database Service  \\\n",
       "1                                                NaN                                                                                                               \n",
       "2                                                NaN                                                                                                               \n",
       "3                                                NaN                                                                                                               \n",
       "4                                                NaN                                                                                                               \n",
       "5                                                NaN                                                                                                               \n",
       "\n",
       "0 Which of the following relational database products do you use on a regular basis? (Select all that apply) - Selected Choice - AWS DynamoDB  \\\n",
       "1                                                NaN                                                                                            \n",
       "2                                                NaN                                                                                            \n",
       "3                                                NaN                                                                                            \n",
       "4                                                NaN                                                                                            \n",
       "5                                                NaN                                                                                            \n",
       "\n",
       "0 Which of the following relational database products do you use on a regular basis? (Select all that apply) - Selected Choice - Azure SQL Database  \\\n",
       "1                                                NaN                                                                                                  \n",
       "2                                                NaN                                                                                                  \n",
       "3                                                NaN                                                                                                  \n",
       "4                                 Azure SQL Database                                                                                                  \n",
       "5                                                NaN                                                                                                  \n",
       "\n",
       "0 Which of the following relational database products do you use on a regular basis? (Select all that apply) - Selected Choice - Google Cloud SQL  \\\n",
       "1                                                NaN                                                                                                \n",
       "2                                                NaN                                                                                                \n",
       "3                                                NaN                                                                                                \n",
       "4                                                NaN                                                                                                \n",
       "5                                                NaN                                                                                                \n",
       "\n",
       "0 Which of the following relational database products do you use on a regular basis? (Select all that apply) - Selected Choice - None  \\\n",
       "1                                                NaN                                                                                    \n",
       "2                                                NaN                                                                                    \n",
       "3                                                NaN                                                                                    \n",
       "4                                                NaN                                                                                    \n",
       "5                                                NaN                                                                                    \n",
       "\n",
       "0 Which of the following relational database products do you use on a regular basis? (Select all that apply) - Selected Choice - Other  \\\n",
       "1                                                NaN                                                                                     \n",
       "2                                                NaN                                                                                     \n",
       "3                                                NaN                                                                                     \n",
       "4                                                NaN                                                                                     \n",
       "5                                                NaN                                                                                     \n",
       "\n",
       "0 Which of the following relational database products do you use on a regular basis? (Select all that apply) - Other - Text  \n",
       "1                                                 -1                                                                         \n",
       "2                                                 -1                                                                         \n",
       "3                                                 -1                                                                         \n",
       "4                                                 -1                                                                         \n",
       "5                                                 -1                                                                         \n",
       "\n",
       "[5 rows x 246 columns]"
      ]
     },
     "execution_count": 3,
     "metadata": {},
     "output_type": "execute_result"
    }
   ],
   "source": [
    "# Reassigning header to first row and removing first row\n",
    "mc.columns = mc.iloc[0,:]\n",
    "mc = mc[1:]\n",
    "mc.head()"
   ]
  },
  {
   "cell_type": "code",
   "execution_count": 4,
   "metadata": {},
   "outputs": [
    {
     "name": "stdout",
     "output_type": "stream",
     "text": [
      "19713\n"
     ]
    }
   ],
   "source": [
    "# Remove duplicates\n",
    "mc = mc.drop_duplicates()\n",
    "print(len(mc))"
   ]
  },
  {
   "cell_type": "code",
   "execution_count": 5,
   "metadata": {},
   "outputs": [],
   "source": [
    "# Removing \"text\" columns\n",
    "text_columns = mc.filter(regex=(\".*\\ Text$\"))\n",
    "mc.drop(text_columns.columns, axis=1, inplace=True)"
   ]
  },
  {
   "cell_type": "code",
   "execution_count": 6,
   "metadata": {},
   "outputs": [
    {
     "data": {
      "text/plain": [
       "array(['Duration (in seconds)', 'What is your age (# years)?',\n",
       "       'What is your gender? - Selected Choice',\n",
       "       'In which country do you currently reside?',\n",
       "       'What is the highest level of formal education that you have attained or plan to attain within the next 2 years?',\n",
       "       'Select the title most similar to your current role (or most recent title if retired): - Selected Choice',\n",
       "       'What is the size of the company where you are employed?',\n",
       "       'Approximately how many individuals are responsible for data science workloads at your place of business?',\n",
       "       'Does your current employer incorporate machine learning methods into their business?',\n",
       "       'Select any activities that make up an important part of your role at work: (Select all that apply) - Selected Choice - Analyze and understand data to influence product or business decisions',\n",
       "       'Select any activities that make up an important part of your role at work: (Select all that apply) - Selected Choice - Build and/or run the data infrastructure that my business uses for storing, analyzing, and operationalizing data',\n",
       "       'Select any activities that make up an important part of your role at work: (Select all that apply) - Selected Choice - Build prototypes to explore applying machine learning to new areas',\n",
       "       'Select any activities that make up an important part of your role at work: (Select all that apply) - Selected Choice - Build and/or run a machine learning service that operationally improves my product or workflows',\n",
       "       'Select any activities that make up an important part of your role at work: (Select all that apply) - Selected Choice - Experimentation and iteration to improve existing ML models',\n",
       "       'Select any activities that make up an important part of your role at work: (Select all that apply) - Selected Choice - Do research that advances the state of the art of machine learning',\n",
       "       'Select any activities that make up an important part of your role at work: (Select all that apply) - Selected Choice - None of these activities are an important part of my role at work',\n",
       "       'Select any activities that make up an important part of your role at work: (Select all that apply) - Selected Choice - Other',\n",
       "       'What is your current yearly compensation (approximate $USD)?',\n",
       "       'Approximately how much money have you spent on machine learning and/or cloud computing products at your work in the past 5 years?',\n",
       "       'Who/what are your favorite media sources that report on data science topics? (Select all that apply) - Selected Choice - Twitter (data science influencers)',\n",
       "       'Who/what are your favorite media sources that report on data science topics? (Select all that apply) - Selected Choice - Hacker News (https://news.ycombinator.com/)',\n",
       "       'Who/what are your favorite media sources that report on data science topics? (Select all that apply) - Selected Choice - Reddit (r/machinelearning, r/datascience, etc)',\n",
       "       'Who/what are your favorite media sources that report on data science topics? (Select all that apply) - Selected Choice - Kaggle (forums, blog, social media, etc)',\n",
       "       'Who/what are your favorite media sources that report on data science topics? (Select all that apply) - Selected Choice - Course Forums (forums.fast.ai, etc)',\n",
       "       'Who/what are your favorite media sources that report on data science topics? (Select all that apply) - Selected Choice - YouTube (Cloud AI Adventures, Siraj Raval, etc)',\n",
       "       'Who/what are your favorite media sources that report on data science topics? (Select all that apply) - Selected Choice - Podcasts (Chai Time Data Science, Linear Digressions, etc)',\n",
       "       'Who/what are your favorite media sources that report on data science topics? (Select all that apply) - Selected Choice - Blogs (Towards Data Science, Medium, Analytics Vidhya, KDnuggets etc)',\n",
       "       'Who/what are your favorite media sources that report on data science topics? (Select all that apply) - Selected Choice - Journal Publications (traditional publications, preprint journals, etc)',\n",
       "       'Who/what are your favorite media sources that report on data science topics? (Select all that apply) - Selected Choice - Slack Communities (ods.ai, kagglenoobs, etc)',\n",
       "       'Who/what are your favorite media sources that report on data science topics? (Select all that apply) - Selected Choice - None',\n",
       "       'Who/what are your favorite media sources that report on data science topics? (Select all that apply) - Selected Choice - Other',\n",
       "       'On which platforms have you begun or completed data science courses? (Select all that apply) - Selected Choice - Udacity',\n",
       "       'On which platforms have you begun or completed data science courses? (Select all that apply) - Selected Choice - Coursera',\n",
       "       'On which platforms have you begun or completed data science courses? (Select all that apply) - Selected Choice - edX',\n",
       "       'On which platforms have you begun or completed data science courses? (Select all that apply) - Selected Choice - DataCamp',\n",
       "       'On which platforms have you begun or completed data science courses? (Select all that apply) - Selected Choice - DataQuest',\n",
       "       'On which platforms have you begun or completed data science courses? (Select all that apply) - Selected Choice - Kaggle Courses (i.e. Kaggle Learn)',\n",
       "       'On which platforms have you begun or completed data science courses? (Select all that apply) - Selected Choice - Fast.ai',\n",
       "       'On which platforms have you begun or completed data science courses? (Select all that apply) - Selected Choice - Udemy',\n",
       "       'On which platforms have you begun or completed data science courses? (Select all that apply) - Selected Choice - LinkedIn Learning',\n",
       "       'On which platforms have you begun or completed data science courses? (Select all that apply) - Selected Choice - University Courses (resulting in a university degree)',\n",
       "       'On which platforms have you begun or completed data science courses? (Select all that apply) - Selected Choice - None',\n",
       "       'On which platforms have you begun or completed data science courses? (Select all that apply) - Selected Choice - Other',\n",
       "       'What is the primary tool that you use at work or school to analyze data? (Include text response) - Selected Choice',\n",
       "       'How long have you been writing code to analyze data (at work or at school)?',\n",
       "       \"Which of the following integrated development environments (IDE's) do you use on a regular basis?  (Select all that apply) - Selected Choice - Jupyter (JupyterLab, Jupyter Notebooks, etc) \",\n",
       "       \"Which of the following integrated development environments (IDE's) do you use on a regular basis?  (Select all that apply) - Selected Choice -  RStudio \",\n",
       "       \"Which of the following integrated development environments (IDE's) do you use on a regular basis?  (Select all that apply) - Selected Choice -  PyCharm \",\n",
       "       \"Which of the following integrated development environments (IDE's) do you use on a regular basis?  (Select all that apply) - Selected Choice -  Atom \",\n",
       "       \"Which of the following integrated development environments (IDE's) do you use on a regular basis?  (Select all that apply) - Selected Choice -  MATLAB \",\n",
       "       \"Which of the following integrated development environments (IDE's) do you use on a regular basis?  (Select all that apply) - Selected Choice -  Visual Studio / Visual Studio Code \",\n",
       "       \"Which of the following integrated development environments (IDE's) do you use on a regular basis?  (Select all that apply) - Selected Choice -   Spyder  \",\n",
       "       \"Which of the following integrated development environments (IDE's) do you use on a regular basis?  (Select all that apply) - Selected Choice -   Vim / Emacs  \",\n",
       "       \"Which of the following integrated development environments (IDE's) do you use on a regular basis?  (Select all that apply) - Selected Choice -   Notepad++  \",\n",
       "       \"Which of the following integrated development environments (IDE's) do you use on a regular basis?  (Select all that apply) - Selected Choice -   Sublime Text  \",\n",
       "       \"Which of the following integrated development environments (IDE's) do you use on a regular basis?  (Select all that apply) - Selected Choice - None\",\n",
       "       \"Which of the following integrated development environments (IDE's) do you use on a regular basis?  (Select all that apply) - Selected Choice - Other\",\n",
       "       'Which of the following hosted notebook products do you use on a regular basis?  (Select all that apply) - Selected Choice -  Kaggle Notebooks (Kernels) ',\n",
       "       'Which of the following hosted notebook products do you use on a regular basis?  (Select all that apply) - Selected Choice -  Google Colab ',\n",
       "       'Which of the following hosted notebook products do you use on a regular basis?  (Select all that apply) - Selected Choice -  Microsoft Azure Notebooks ',\n",
       "       'Which of the following hosted notebook products do you use on a regular basis?  (Select all that apply) - Selected Choice -  Google Cloud Notebook Products (AI Platform, Datalab, etc) ',\n",
       "       'Which of the following hosted notebook products do you use on a regular basis?  (Select all that apply) - Selected Choice -  Paperspace / Gradient ',\n",
       "       'Which of the following hosted notebook products do you use on a regular basis?  (Select all that apply) - Selected Choice -  FloydHub ',\n",
       "       'Which of the following hosted notebook products do you use on a regular basis?  (Select all that apply) - Selected Choice -  Binder / JupyterHub ',\n",
       "       'Which of the following hosted notebook products do you use on a regular basis?  (Select all that apply) - Selected Choice -  IBM Watson Studio ',\n",
       "       'Which of the following hosted notebook products do you use on a regular basis?  (Select all that apply) - Selected Choice - Code Ocean ',\n",
       "       'Which of the following hosted notebook products do you use on a regular basis?  (Select all that apply) - Selected Choice - AWS Notebook Products (EMR Notebooks, Sagemaker Notebooks, etc) ',\n",
       "       'Which of the following hosted notebook products do you use on a regular basis?  (Select all that apply) - Selected Choice - None',\n",
       "       'Which of the following hosted notebook products do you use on a regular basis?  (Select all that apply) - Selected Choice - Other',\n",
       "       'What programming languages do you use on a regular basis? (Select all that apply) - Selected Choice - Python',\n",
       "       'What programming languages do you use on a regular basis? (Select all that apply) - Selected Choice - R',\n",
       "       'What programming languages do you use on a regular basis? (Select all that apply) - Selected Choice - SQL',\n",
       "       'What programming languages do you use on a regular basis? (Select all that apply) - Selected Choice - C',\n",
       "       'What programming languages do you use on a regular basis? (Select all that apply) - Selected Choice - C++',\n",
       "       'What programming languages do you use on a regular basis? (Select all that apply) - Selected Choice - Java',\n",
       "       'What programming languages do you use on a regular basis? (Select all that apply) - Selected Choice - Javascript',\n",
       "       'What programming languages do you use on a regular basis? (Select all that apply) - Selected Choice - TypeScript',\n",
       "       'What programming languages do you use on a regular basis? (Select all that apply) - Selected Choice - Bash',\n",
       "       'What programming languages do you use on a regular basis? (Select all that apply) - Selected Choice - MATLAB',\n",
       "       'What programming languages do you use on a regular basis? (Select all that apply) - Selected Choice - None',\n",
       "       'What programming languages do you use on a regular basis? (Select all that apply) - Selected Choice - Other',\n",
       "       'What programming language would you recommend an aspiring data scientist to learn first? - Selected Choice',\n",
       "       'What data visualization libraries or tools do you use on a regular basis?  (Select all that apply) - Selected Choice -  Ggplot / ggplot2 ',\n",
       "       'What data visualization libraries or tools do you use on a regular basis?  (Select all that apply) - Selected Choice -  Matplotlib ',\n",
       "       'What data visualization libraries or tools do you use on a regular basis?  (Select all that apply) - Selected Choice -  Altair ',\n",
       "       'What data visualization libraries or tools do you use on a regular basis?  (Select all that apply) - Selected Choice -  Shiny ',\n",
       "       'What data visualization libraries or tools do you use on a regular basis?  (Select all that apply) - Selected Choice -  D3.js ',\n",
       "       'What data visualization libraries or tools do you use on a regular basis?  (Select all that apply) - Selected Choice -  Plotly / Plotly Express ',\n",
       "       'What data visualization libraries or tools do you use on a regular basis?  (Select all that apply) - Selected Choice -  Bokeh ',\n",
       "       'What data visualization libraries or tools do you use on a regular basis?  (Select all that apply) - Selected Choice -  Seaborn ',\n",
       "       'What data visualization libraries or tools do you use on a regular basis?  (Select all that apply) - Selected Choice -  Geoplotlib ',\n",
       "       'What data visualization libraries or tools do you use on a regular basis?  (Select all that apply) - Selected Choice -  Leaflet / Folium ',\n",
       "       'What data visualization libraries or tools do you use on a regular basis?  (Select all that apply) - Selected Choice - None',\n",
       "       'What data visualization libraries or tools do you use on a regular basis?  (Select all that apply) - Selected Choice - Other',\n",
       "       'Which types of specialized hardware do you use on a regular basis?  (Select all that apply) - Selected Choice - CPUs',\n",
       "       'Which types of specialized hardware do you use on a regular basis?  (Select all that apply) - Selected Choice - GPUs',\n",
       "       'Which types of specialized hardware do you use on a regular basis?  (Select all that apply) - Selected Choice - TPUs',\n",
       "       'Which types of specialized hardware do you use on a regular basis?  (Select all that apply) - Selected Choice - None / I do not know',\n",
       "       'Which types of specialized hardware do you use on a regular basis?  (Select all that apply) - Selected Choice - Other',\n",
       "       'Have you ever used a TPU (tensor processing unit)?',\n",
       "       'For how many years have you used machine learning methods?',\n",
       "       'Which of the following ML algorithms do you use on a regular basis? (Select all that apply): - Selected Choice - Linear or Logistic Regression',\n",
       "       'Which of the following ML algorithms do you use on a regular basis? (Select all that apply): - Selected Choice - Decision Trees or Random Forests',\n",
       "       'Which of the following ML algorithms do you use on a regular basis? (Select all that apply): - Selected Choice - Gradient Boosting Machines (xgboost, lightgbm, etc)',\n",
       "       'Which of the following ML algorithms do you use on a regular basis? (Select all that apply): - Selected Choice - Bayesian Approaches',\n",
       "       'Which of the following ML algorithms do you use on a regular basis? (Select all that apply): - Selected Choice - Evolutionary Approaches',\n",
       "       'Which of the following ML algorithms do you use on a regular basis? (Select all that apply): - Selected Choice - Dense Neural Networks (MLPs, etc)',\n",
       "       'Which of the following ML algorithms do you use on a regular basis? (Select all that apply): - Selected Choice - Convolutional Neural Networks',\n",
       "       'Which of the following ML algorithms do you use on a regular basis? (Select all that apply): - Selected Choice - Generative Adversarial Networks',\n",
       "       'Which of the following ML algorithms do you use on a regular basis? (Select all that apply): - Selected Choice - Recurrent Neural Networks',\n",
       "       'Which of the following ML algorithms do you use on a regular basis? (Select all that apply): - Selected Choice - Transformer Networks (BERT, gpt-2, etc)',\n",
       "       'Which of the following ML algorithms do you use on a regular basis? (Select all that apply): - Selected Choice - None',\n",
       "       'Which of the following ML algorithms do you use on a regular basis? (Select all that apply): - Selected Choice - Other',\n",
       "       'Which categories of ML tools do you use on a regular basis?  (Select all that apply) - Selected Choice - Automated data augmentation (e.g. imgaug, albumentations)',\n",
       "       'Which categories of ML tools do you use on a regular basis?  (Select all that apply) - Selected Choice - Automated feature engineering/selection (e.g. tpot, boruta_py)',\n",
       "       'Which categories of ML tools do you use on a regular basis?  (Select all that apply) - Selected Choice - Automated model selection (e.g. auto-sklearn, xcessiv)',\n",
       "       'Which categories of ML tools do you use on a regular basis?  (Select all that apply) - Selected Choice - Automated model architecture searches (e.g. darts, enas)',\n",
       "       'Which categories of ML tools do you use on a regular basis?  (Select all that apply) - Selected Choice - Automated hyperparameter tuning (e.g. hyperopt, ray.tune)',\n",
       "       'Which categories of ML tools do you use on a regular basis?  (Select all that apply) - Selected Choice - Automation of full ML pipelines (e.g. Google AutoML, H20 Driverless AI)',\n",
       "       'Which categories of ML tools do you use on a regular basis?  (Select all that apply) - Selected Choice - None',\n",
       "       'Which categories of ML tools do you use on a regular basis?  (Select all that apply) - Selected Choice - Other',\n",
       "       'Which categories of computer vision methods do you use on a regular basis?  (Select all that apply) - Selected Choice - General purpose image/video tools (PIL, cv2, skimage, etc)',\n",
       "       'Which categories of computer vision methods do you use on a regular basis?  (Select all that apply) - Selected Choice - Image segmentation methods (U-Net, Mask R-CNN, etc)',\n",
       "       'Which categories of computer vision methods do you use on a regular basis?  (Select all that apply) - Selected Choice - Object detection methods (YOLOv3, RetinaNet, etc)',\n",
       "       'Which categories of computer vision methods do you use on a regular basis?  (Select all that apply) - Selected Choice - Image classification and other general purpose networks (VGG, Inception, ResNet, ResNeXt, NASNet, EfficientNet, etc)',\n",
       "       'Which categories of computer vision methods do you use on a regular basis?  (Select all that apply) - Selected Choice - Generative Networks (GAN, VAE, etc)',\n",
       "       'Which categories of computer vision methods do you use on a regular basis?  (Select all that apply) - Selected Choice - None',\n",
       "       'Which categories of computer vision methods do you use on a regular basis?  (Select all that apply) - Selected Choice - Other',\n",
       "       'Which of the following natural language processing (NLP) methods do you use on a regular basis?  (Select all that apply) - Selected Choice - Word embeddings/vectors (GLoVe, fastText, word2vec)',\n",
       "       'Which of the following natural language processing (NLP) methods do you use on a regular basis?  (Select all that apply) - Selected Choice - Encoder-decorder models (seq2seq, vanilla transformers)',\n",
       "       'Which of the following natural language processing (NLP) methods do you use on a regular basis?  (Select all that apply) - Selected Choice - Contextualized embeddings (ELMo, CoVe)',\n",
       "       'Which of the following natural language processing (NLP) methods do you use on a regular basis?  (Select all that apply) - Selected Choice - Transformer language models (GPT-2, BERT, XLnet, etc)',\n",
       "       'Which of the following natural language processing (NLP) methods do you use on a regular basis?  (Select all that apply) - Selected Choice - None',\n",
       "       'Which of the following natural language processing (NLP) methods do you use on a regular basis?  (Select all that apply) - Selected Choice - Other',\n",
       "       'Which of the following machine learning frameworks do you use on a regular basis? (Select all that apply) - Selected Choice -   Scikit-learn ',\n",
       "       'Which of the following machine learning frameworks do you use on a regular basis? (Select all that apply) - Selected Choice -   TensorFlow ',\n",
       "       'Which of the following machine learning frameworks do you use on a regular basis? (Select all that apply) - Selected Choice -  Keras ',\n",
       "       'Which of the following machine learning frameworks do you use on a regular basis? (Select all that apply) - Selected Choice -  RandomForest',\n",
       "       'Which of the following machine learning frameworks do you use on a regular basis? (Select all that apply) - Selected Choice -  Xgboost ',\n",
       "       'Which of the following machine learning frameworks do you use on a regular basis? (Select all that apply) - Selected Choice -  PyTorch ',\n",
       "       'Which of the following machine learning frameworks do you use on a regular basis? (Select all that apply) - Selected Choice -  Caret ',\n",
       "       'Which of the following machine learning frameworks do you use on a regular basis? (Select all that apply) - Selected Choice -  LightGBM ',\n",
       "       'Which of the following machine learning frameworks do you use on a regular basis? (Select all that apply) - Selected Choice -  Spark MLib ',\n",
       "       'Which of the following machine learning frameworks do you use on a regular basis? (Select all that apply) - Selected Choice -  Fast.ai ',\n",
       "       'Which of the following machine learning frameworks do you use on a regular basis? (Select all that apply) - Selected Choice - None',\n",
       "       'Which of the following machine learning frameworks do you use on a regular basis? (Select all that apply) - Selected Choice - Other',\n",
       "       'Which of the following cloud computing platforms do you use on a regular basis? (Select all that apply) - Selected Choice -  Google Cloud Platform (GCP) ',\n",
       "       'Which of the following cloud computing platforms do you use on a regular basis? (Select all that apply) - Selected Choice -  Amazon Web Services (AWS) ',\n",
       "       'Which of the following cloud computing platforms do you use on a regular basis? (Select all that apply) - Selected Choice -  Microsoft Azure ',\n",
       "       'Which of the following cloud computing platforms do you use on a regular basis? (Select all that apply) - Selected Choice -  IBM Cloud ',\n",
       "       'Which of the following cloud computing platforms do you use on a regular basis? (Select all that apply) - Selected Choice -  Alibaba Cloud ',\n",
       "       'Which of the following cloud computing platforms do you use on a regular basis? (Select all that apply) - Selected Choice -  Salesforce Cloud ',\n",
       "       'Which of the following cloud computing platforms do you use on a regular basis? (Select all that apply) - Selected Choice -  Oracle Cloud ',\n",
       "       'Which of the following cloud computing platforms do you use on a regular basis? (Select all that apply) - Selected Choice -  SAP Cloud ',\n",
       "       'Which of the following cloud computing platforms do you use on a regular basis? (Select all that apply) - Selected Choice -  VMware Cloud ',\n",
       "       'Which of the following cloud computing platforms do you use on a regular basis? (Select all that apply) - Selected Choice -  Red Hat Cloud ',\n",
       "       'Which of the following cloud computing platforms do you use on a regular basis? (Select all that apply) - Selected Choice - None',\n",
       "       'Which of the following cloud computing platforms do you use on a regular basis? (Select all that apply) - Selected Choice - Other',\n",
       "       'Which specific cloud computing products do you use on a regular basis? (Select all that apply) - Selected Choice - AWS Elastic Compute Cloud (EC2)',\n",
       "       'Which specific cloud computing products do you use on a regular basis? (Select all that apply) - Selected Choice - Google Compute Engine (GCE)',\n",
       "       'Which specific cloud computing products do you use on a regular basis? (Select all that apply) - Selected Choice - AWS Lambda',\n",
       "       'Which specific cloud computing products do you use on a regular basis? (Select all that apply) - Selected Choice - Azure Virtual Machines',\n",
       "       'Which specific cloud computing products do you use on a regular basis? (Select all that apply) - Selected Choice - Google App Engine',\n",
       "       'Which specific cloud computing products do you use on a regular basis? (Select all that apply) - Selected Choice - Google Cloud Functions',\n",
       "       'Which specific cloud computing products do you use on a regular basis? (Select all that apply) - Selected Choice - AWS Elastic Beanstalk',\n",
       "       'Which specific cloud computing products do you use on a regular basis? (Select all that apply) - Selected Choice - Google Kubernetes Engine',\n",
       "       'Which specific cloud computing products do you use on a regular basis? (Select all that apply) - Selected Choice - AWS Batch',\n",
       "       'Which specific cloud computing products do you use on a regular basis? (Select all that apply) - Selected Choice - Azure Container Service',\n",
       "       'Which specific cloud computing products do you use on a regular basis? (Select all that apply) - Selected Choice - None',\n",
       "       'Which specific cloud computing products do you use on a regular basis? (Select all that apply) - Selected Choice - Other',\n",
       "       'Which specific big data / analytics products do you use on a regular basis? (Select all that apply) - Selected Choice - Google BigQuery',\n",
       "       'Which specific big data / analytics products do you use on a regular basis? (Select all that apply) - Selected Choice - AWS Redshift',\n",
       "       'Which specific big data / analytics products do you use on a regular basis? (Select all that apply) - Selected Choice - Databricks',\n",
       "       'Which specific big data / analytics products do you use on a regular basis? (Select all that apply) - Selected Choice - AWS Elastic MapReduce',\n",
       "       'Which specific big data / analytics products do you use on a regular basis? (Select all that apply) - Selected Choice - Teradata',\n",
       "       'Which specific big data / analytics products do you use on a regular basis? (Select all that apply) - Selected Choice - Microsoft Analysis Services',\n",
       "       'Which specific big data / analytics products do you use on a regular basis? (Select all that apply) - Selected Choice - Google Cloud Dataflow',\n",
       "       'Which specific big data / analytics products do you use on a regular basis? (Select all that apply) - Selected Choice - AWS Athena',\n",
       "       'Which specific big data / analytics products do you use on a regular basis? (Select all that apply) - Selected Choice - AWS Kinesis',\n",
       "       'Which specific big data / analytics products do you use on a regular basis? (Select all that apply) - Selected Choice - Google Cloud Pub/Sub',\n",
       "       'Which specific big data / analytics products do you use on a regular basis? (Select all that apply) - Selected Choice - None',\n",
       "       'Which specific big data / analytics products do you use on a regular basis? (Select all that apply) - Selected Choice - Other',\n",
       "       'Which of the following machine learning products do you use on a regular basis? (Select all that apply) - Selected Choice - SAS',\n",
       "       'Which of the following machine learning products do you use on a regular basis? (Select all that apply) - Selected Choice - Cloudera',\n",
       "       'Which of the following machine learning products do you use on a regular basis? (Select all that apply) - Selected Choice - Azure Machine Learning Studio',\n",
       "       'Which of the following machine learning products do you use on a regular basis? (Select all that apply) - Selected Choice - Google Cloud Machine Learning Engine',\n",
       "       'Which of the following machine learning products do you use on a regular basis? (Select all that apply) - Selected Choice - Google Cloud Vision',\n",
       "       'Which of the following machine learning products do you use on a regular basis? (Select all that apply) - Selected Choice - Google Cloud Speech-to-Text',\n",
       "       'Which of the following machine learning products do you use on a regular basis? (Select all that apply) - Selected Choice - Google Cloud Natural Language',\n",
       "       'Which of the following machine learning products do you use on a regular basis? (Select all that apply) - Selected Choice - RapidMiner',\n",
       "       'Which of the following machine learning products do you use on a regular basis? (Select all that apply) - Selected Choice - Google Cloud Translation',\n",
       "       'Which of the following machine learning products do you use on a regular basis? (Select all that apply) - Selected Choice - Amazon SageMaker',\n",
       "       'Which of the following machine learning products do you use on a regular basis? (Select all that apply) - Selected Choice - None',\n",
       "       'Which of the following machine learning products do you use on a regular basis? (Select all that apply) - Selected Choice - Other',\n",
       "       'Which automated machine learning tools (or partial AutoML tools) do you use on a regular basis?  (Select all that apply) - Selected Choice -  Google AutoML ',\n",
       "       'Which automated machine learning tools (or partial AutoML tools) do you use on a regular basis?  (Select all that apply) - Selected Choice -  H20 Driverless AI  ',\n",
       "       'Which automated machine learning tools (or partial AutoML tools) do you use on a regular basis?  (Select all that apply) - Selected Choice -  Databricks AutoML ',\n",
       "       'Which automated machine learning tools (or partial AutoML tools) do you use on a regular basis?  (Select all that apply) - Selected Choice -  DataRobot AutoML ',\n",
       "       'Which automated machine learning tools (or partial AutoML tools) do you use on a regular basis?  (Select all that apply) - Selected Choice -   Tpot ',\n",
       "       'Which automated machine learning tools (or partial AutoML tools) do you use on a regular basis?  (Select all that apply) - Selected Choice -   Auto-Keras ',\n",
       "       'Which automated machine learning tools (or partial AutoML tools) do you use on a regular basis?  (Select all that apply) - Selected Choice -   Auto-Sklearn ',\n",
       "       'Which automated machine learning tools (or partial AutoML tools) do you use on a regular basis?  (Select all that apply) - Selected Choice -   Auto_ml ',\n",
       "       'Which automated machine learning tools (or partial AutoML tools) do you use on a regular basis?  (Select all that apply) - Selected Choice -   Xcessiv ',\n",
       "       'Which automated machine learning tools (or partial AutoML tools) do you use on a regular basis?  (Select all that apply) - Selected Choice -   MLbox ',\n",
       "       'Which automated machine learning tools (or partial AutoML tools) do you use on a regular basis?  (Select all that apply) - Selected Choice - None',\n",
       "       'Which automated machine learning tools (or partial AutoML tools) do you use on a regular basis?  (Select all that apply) - Selected Choice - Other',\n",
       "       'Which of the following relational database products do you use on a regular basis? (Select all that apply) - Selected Choice - MySQL',\n",
       "       'Which of the following relational database products do you use on a regular basis? (Select all that apply) - Selected Choice - PostgresSQL',\n",
       "       'Which of the following relational database products do you use on a regular basis? (Select all that apply) - Selected Choice - SQLite',\n",
       "       'Which of the following relational database products do you use on a regular basis? (Select all that apply) - Selected Choice - Microsoft SQL Server',\n",
       "       'Which of the following relational database products do you use on a regular basis? (Select all that apply) - Selected Choice - Oracle Database',\n",
       "       'Which of the following relational database products do you use on a regular basis? (Select all that apply) - Selected Choice - Microsoft Access',\n",
       "       'Which of the following relational database products do you use on a regular basis? (Select all that apply) - Selected Choice - AWS Relational Database Service',\n",
       "       'Which of the following relational database products do you use on a regular basis? (Select all that apply) - Selected Choice - AWS DynamoDB',\n",
       "       'Which of the following relational database products do you use on a regular basis? (Select all that apply) - Selected Choice - Azure SQL Database',\n",
       "       'Which of the following relational database products do you use on a regular basis? (Select all that apply) - Selected Choice - Google Cloud SQL',\n",
       "       'Which of the following relational database products do you use on a regular basis? (Select all that apply) - Selected Choice - None',\n",
       "       'Which of the following relational database products do you use on a regular basis? (Select all that apply) - Selected Choice - Other'],\n",
       "      dtype=object)"
      ]
     },
     "execution_count": 6,
     "metadata": {},
     "output_type": "execute_result"
    }
   ],
   "source": [
    "# Listing column names\n",
    "mc.columns.values"
   ]
  },
  {
   "cell_type": "code",
   "execution_count": 7,
   "metadata": {},
   "outputs": [],
   "source": [
    "## Creating 'activities' column\n",
    "# Assigning Multiple Choice columns into a single column with nan values\n",
    "test_list = mc.loc[:,'Select any activities that make up an important part of your role at work: (Select all that apply) - Selected Choice - Analyze and understand data to influence product or business decisions':\n",
    "                   'Select any activities that make up an important part of your role at work: (Select all that apply) - Selected Choice - Other'].apply(\n",
    "    lambda x: \",\".join(x.dropna()), axis=1)\n",
    "test_list = test_list.replace({'nannannan':np.nan})\n",
    "mc['activities'] = test_list\n",
    "# Dropping Multiple Choice columns from range\n",
    "drop_list = mc.loc[:,'Select any activities that make up an important part of your role at work: (Select all that apply) - Selected Choice - Analyze and understand data to influence product or business decisions':\n",
    "                   'Select any activities that make up an important part of your role at work: (Select all that apply) - Selected Choice - Other']\n",
    "drop_list_cols = list(drop_list.columns.values)\n",
    "mc.drop(drop_list_cols, axis=1, inplace=True)"
   ]
  },
  {
   "cell_type": "code",
   "execution_count": 8,
   "metadata": {},
   "outputs": [],
   "source": [
    "## Creating 'fav_media' column\n",
    "# Assigning Multiple Choice columns into a single column with nan values\n",
    "test_list = mc.loc[:,'Who/what are your favorite media sources that report on data science topics? (Select all that apply) - Selected Choice - Twitter (data science influencers)':\n",
    "                   'Who/what are your favorite media sources that report on data science topics? (Select all that apply) - Selected Choice - Other'].apply(\n",
    "    lambda x: \",\".join(x.dropna()), axis=1)\n",
    "test_list = test_list.replace({'nannannan':np.nan})\n",
    "mc['fav_media'] = test_list\n",
    "# Dropping Multiple Choice columns from range\n",
    "drop_list = mc.loc[:,'Who/what are your favorite media sources that report on data science topics? (Select all that apply) - Selected Choice - Twitter (data science influencers)':\n",
    "                   'Who/what are your favorite media sources that report on data science topics? (Select all that apply) - Selected Choice - Other']\n",
    "drop_list_cols = list(drop_list.columns.values)\n",
    "mc.drop(drop_list_cols, axis=1, inplace=True)"
   ]
  },
  {
   "cell_type": "code",
   "execution_count": 9,
   "metadata": {},
   "outputs": [],
   "source": [
    "## Creating 'dscourse_platforms' column\n",
    "# Assigning Multiple Choice columns into a single column with nan values\n",
    "test_list = mc.loc[:,'On which platforms have you begun or completed data science courses? (Select all that apply) - Selected Choice - Udacity':\n",
    "                   'On which platforms have you begun or completed data science courses? (Select all that apply) - Selected Choice - Other'].apply(\n",
    "    lambda x: \",\".join(x.dropna()), axis=1)\n",
    "test_list = test_list.replace({'nannannan':np.nan})\n",
    "mc['dscourse_platforms'] = test_list\n",
    "# Dropping Multiple Choice columns from range\n",
    "drop_list = mc.loc[:,'On which platforms have you begun or completed data science courses? (Select all that apply) - Selected Choice - Udacity':\n",
    "                   'On which platforms have you begun or completed data science courses? (Select all that apply) - Selected Choice - Other']\n",
    "drop_list_cols = list(drop_list.columns.values)\n",
    "mc.drop(drop_list_cols, axis=1, inplace=True)"
   ]
  },
  {
   "cell_type": "code",
   "execution_count": 10,
   "metadata": {},
   "outputs": [],
   "source": [
    "## Creating 'ides_used' column\n",
    "# Assigning Multiple Choice columns into a single column with nan values\n",
    "test_list = mc.loc[:,\"Which of the following integrated development environments (IDE's) do you use on a regular basis?  (Select all that apply) - Selected Choice - Jupyter (JupyterLab, Jupyter Notebooks, etc) \":\n",
    "                   \"Which of the following integrated development environments (IDE's) do you use on a regular basis?  (Select all that apply) - Selected Choice - Other\"].apply(\n",
    "    lambda x: \",\".join(x.dropna()), axis=1)\n",
    "test_list = test_list.replace({'nannannan':np.nan})\n",
    "mc['ides_used'] = test_list\n",
    "# Dropping Multiple Choice columns from range\n",
    "drop_list = mc.loc[:,\"Which of the following integrated development environments (IDE's) do you use on a regular basis?  (Select all that apply) - Selected Choice - Jupyter (JupyterLab, Jupyter Notebooks, etc) \":\n",
    "                   \"Which of the following integrated development environments (IDE's) do you use on a regular basis?  (Select all that apply) - Selected Choice - Other\"]\n",
    "drop_list_cols = list(drop_list.columns.values)\n",
    "mc.drop(drop_list_cols, axis=1, inplace=True)"
   ]
  },
  {
   "cell_type": "code",
   "execution_count": 11,
   "metadata": {},
   "outputs": [],
   "source": [
    "## Creating 'notebooks_used' column\n",
    "# Assigning Multiple Choice columns into a single column with nan values\n",
    "test_list = mc.loc[:,'Which of the following hosted notebook products do you use on a regular basis?  (Select all that apply) - Selected Choice -  Kaggle Notebooks (Kernels) ':\n",
    "                   'Which of the following hosted notebook products do you use on a regular basis?  (Select all that apply) - Selected Choice - Other'].apply(\n",
    "    lambda x: \",\".join(x.dropna()), axis=1)\n",
    "test_list = test_list.replace({'nannannan':np.nan})\n",
    "mc['notebooks_used'] = test_list\n",
    "# Dropping Multiple Choice columns from range\n",
    "drop_list = mc.loc[:,'Which of the following hosted notebook products do you use on a regular basis?  (Select all that apply) - Selected Choice -  Kaggle Notebooks (Kernels) ':\n",
    "                   'Which of the following hosted notebook products do you use on a regular basis?  (Select all that apply) - Selected Choice - Other']\n",
    "drop_list_cols = list(drop_list.columns.values)\n",
    "mc.drop(drop_list_cols, axis=1, inplace=True)"
   ]
  },
  {
   "cell_type": "code",
   "execution_count": 12,
   "metadata": {},
   "outputs": [],
   "source": [
    "## Creating 'langs_used' column\n",
    "# Assigning Multiple Choice columns into a single column with nan values\n",
    "test_list = mc.loc[:,'What programming languages do you use on a regular basis? (Select all that apply) - Selected Choice - Python':\n",
    "                   'What programming language would you recommend an aspiring data scientist to learn first? - Selected Choice'].apply(\n",
    "    lambda x: \",\".join(x.dropna()), axis=1)\n",
    "test_list = test_list.replace({'nannannan':np.nan})\n",
    "mc['langs_used'] = test_list\n",
    "# Dropping Multiple Choice columns from range\n",
    "drop_list = mc.loc[:,'What programming languages do you use on a regular basis? (Select all that apply) - Selected Choice - Python':\n",
    "                   'What programming language would you recommend an aspiring data scientist to learn first? - Selected Choice']\n",
    "drop_list_cols = list(drop_list.columns.values)\n",
    "mc.drop(drop_list_cols, axis=1, inplace=True)"
   ]
  },
  {
   "cell_type": "code",
   "execution_count": 13,
   "metadata": {},
   "outputs": [],
   "source": [
    "## Creating 'dataviz_used' column\n",
    "# Assigning Multiple Choice columns into a single column with nan values\n",
    "test_list = mc.loc[:,'What data visualization libraries or tools do you use on a regular basis?  (Select all that apply) - Selected Choice -  Ggplot / ggplot2 ':\n",
    "                   'What data visualization libraries or tools do you use on a regular basis?  (Select all that apply) - Selected Choice - Other'].apply(\n",
    "    lambda x: \",\".join(x.dropna()), axis=1)\n",
    "test_list = test_list.replace({'nannannan':np.nan})\n",
    "mc['dataviz_used'] = test_list\n",
    "# Dropping Multiple Choice columns from range\n",
    "drop_list = mc.loc[:,'What data visualization libraries or tools do you use on a regular basis?  (Select all that apply) - Selected Choice -  Ggplot / ggplot2 ':\n",
    "                   'What data visualization libraries or tools do you use on a regular basis?  (Select all that apply) - Selected Choice - Other']\n",
    "drop_list_cols = list(drop_list.columns.values)\n",
    "mc.drop(drop_list_cols, axis=1, inplace=True)"
   ]
  },
  {
   "cell_type": "code",
   "execution_count": 14,
   "metadata": {},
   "outputs": [],
   "source": [
    "## Creating 'hardware_used' column\n",
    "# Assigning Multiple Choice columns into a single column with nan values\n",
    "test_list = mc.loc[:,'Which types of specialized hardware do you use on a regular basis?  (Select all that apply) - Selected Choice - CPUs':\n",
    "                   'Which types of specialized hardware do you use on a regular basis?  (Select all that apply) - Selected Choice - Other'].apply(\n",
    "    lambda x: \",\".join(x.dropna()), axis=1)\n",
    "test_list = test_list.replace({'nannannan':np.nan})\n",
    "mc['hardware_used'] = test_list\n",
    "# Dropping Multiple Choice columns from range\n",
    "drop_list = mc.loc[:,'Which types of specialized hardware do you use on a regular basis?  (Select all that apply) - Selected Choice - CPUs':\n",
    "                   'Which types of specialized hardware do you use on a regular basis?  (Select all that apply) - Selected Choice - Other']\n",
    "drop_list_cols = list(drop_list.columns.values)\n",
    "mc.drop(drop_list_cols, axis=1, inplace=True)"
   ]
  },
  {
   "cell_type": "code",
   "execution_count": 15,
   "metadata": {},
   "outputs": [],
   "source": [
    "## Creating 'ml_alg_used' column\n",
    "# Assigning Multiple Choice columns into a single column with nan values\n",
    "test_list = mc.loc[:,'Which of the following ML algorithms do you use on a regular basis? (Select all that apply): - Selected Choice - Linear or Logistic Regression':\n",
    "                   'Which of the following ML algorithms do you use on a regular basis? (Select all that apply): - Selected Choice - Other'].apply(\n",
    "    lambda x: \",\".join(x.dropna()), axis=1)\n",
    "test_list = test_list.replace({'nannannan':np.nan})\n",
    "mc['ml_alg_used'] = test_list\n",
    "# Dropping Multiple Choice columns from range\n",
    "drop_list = mc.loc[:,'Which of the following ML algorithms do you use on a regular basis? (Select all that apply): - Selected Choice - Linear or Logistic Regression':\n",
    "                   'Which of the following ML algorithms do you use on a regular basis? (Select all that apply): - Selected Choice - Other']\n",
    "drop_list_cols = list(drop_list.columns.values)\n",
    "mc.drop(drop_list_cols, axis=1, inplace=True)"
   ]
  },
  {
   "cell_type": "code",
   "execution_count": 16,
   "metadata": {},
   "outputs": [],
   "source": [
    "## Creating 'ml_tools_used' column\n",
    "# Assigning Multiple Choice columns into a single column with nan values\n",
    "test_list = mc.loc[:,'Which categories of ML tools do you use on a regular basis?  (Select all that apply) - Selected Choice - Automated data augmentation (e.g. imgaug, albumentations)':\n",
    "                   'Which categories of ML tools do you use on a regular basis?  (Select all that apply) - Selected Choice - Other'].apply(\n",
    "    lambda x: \",\".join(x.dropna()), axis=1)\n",
    "test_list = test_list.replace({'nannannan':np.nan})\n",
    "mc['ml_tools_used'] = test_list\n",
    "# Dropping Multiple Choice columns from range\n",
    "drop_list = mc.loc[:,'Which categories of ML tools do you use on a regular basis?  (Select all that apply) - Selected Choice - Automated data augmentation (e.g. imgaug, albumentations)':\n",
    "                   'Which categories of ML tools do you use on a regular basis?  (Select all that apply) - Selected Choice - Other']\n",
    "drop_list_cols = list(drop_list.columns.values)\n",
    "mc.drop(drop_list_cols, axis=1, inplace=True)"
   ]
  },
  {
   "cell_type": "code",
   "execution_count": 17,
   "metadata": {},
   "outputs": [],
   "source": [
    "\n",
    "## Creating 'cvision_used' column\n",
    "# Assigning Multiple Choice columns into a single column with nan values\n",
    "test_list = mc.loc[:,'Which categories of computer vision methods do you use on a regular basis?  (Select all that apply) - Selected Choice - General purpose image/video tools (PIL, cv2, skimage, etc)':\n",
    "                   'Which categories of computer vision methods do you use on a regular basis?  (Select all that apply) - Selected Choice - Other'].apply(\n",
    "    lambda x: \",\".join(x.dropna()), axis=1)\n",
    "test_list = test_list.replace({'nannannan':np.nan})\n",
    "mc['cvision_used'] = test_list\n",
    "# Dropping Multiple Choice columns from range\n",
    "drop_list = mc.loc[:,'Which categories of computer vision methods do you use on a regular basis?  (Select all that apply) - Selected Choice - General purpose image/video tools (PIL, cv2, skimage, etc)':\n",
    "                   'Which categories of computer vision methods do you use on a regular basis?  (Select all that apply) - Selected Choice - Other']\n",
    "drop_list_cols = list(drop_list.columns.values)\n",
    "mc.drop(drop_list_cols, axis=1, inplace=True)"
   ]
  },
  {
   "cell_type": "code",
   "execution_count": 18,
   "metadata": {},
   "outputs": [],
   "source": [
    "## Creating 'nlp_methods_used' column\n",
    "# Assigning Multiple Choice columns into a single column with nan values\n",
    "test_list = mc.loc[:,'Which of the following natural language processing (NLP) methods do you use on a regular basis?  (Select all that apply) - Selected Choice - Word embeddings/vectors (GLoVe, fastText, word2vec)':\n",
    "                   'Which of the following natural language processing (NLP) methods do you use on a regular basis?  (Select all that apply) - Selected Choice - Other'].apply(\n",
    "    lambda x: \",\".join(x.dropna()), axis=1)\n",
    "test_list = test_list.replace({'nannannan':np.nan})\n",
    "mc['nlp_methods_used'] = test_list\n",
    "# Dropping Multiple Choice columns from range\n",
    "drop_list = mc.loc[:,'Which of the following natural language processing (NLP) methods do you use on a regular basis?  (Select all that apply) - Selected Choice - Word embeddings/vectors (GLoVe, fastText, word2vec)':\n",
    "                   'Which of the following natural language processing (NLP) methods do you use on a regular basis?  (Select all that apply) - Selected Choice - Other']\n",
    "drop_list_cols = list(drop_list.columns.values)\n",
    "mc.drop(drop_list_cols, axis=1, inplace=True)"
   ]
  },
  {
   "cell_type": "code",
   "execution_count": 19,
   "metadata": {},
   "outputs": [],
   "source": [
    "## Creating 'ml_frameworks_used' column\n",
    "# Assigning Multiple Choice columns into a single column with nan values\n",
    "test_list = mc.loc[:,'Which of the following machine learning frameworks do you use on a regular basis? (Select all that apply) - Selected Choice -   Scikit-learn ':\n",
    "                   'Which of the following machine learning frameworks do you use on a regular basis? (Select all that apply) - Selected Choice - Other'].apply(\n",
    "    lambda x: \",\".join(x.dropna()), axis=1)\n",
    "test_list = test_list.replace({'nannannan':np.nan})\n",
    "mc['ml_frameworks_used'] = test_list\n",
    "# Dropping Multiple Choice columns from range\n",
    "drop_list = mc.loc[:,'Which of the following machine learning frameworks do you use on a regular basis? (Select all that apply) - Selected Choice -   Scikit-learn ':\n",
    "                   'Which of the following machine learning frameworks do you use on a regular basis? (Select all that apply) - Selected Choice - Other']\n",
    "drop_list_cols = list(drop_list.columns.values)\n",
    "mc.drop(drop_list_cols, axis=1, inplace=True)"
   ]
  },
  {
   "cell_type": "code",
   "execution_count": 20,
   "metadata": {},
   "outputs": [],
   "source": [
    "## Creating 'cloud_platform_used' column\n",
    "# Assigning Multiple Choice columns into a single column with nan values\n",
    "test_list = mc.loc[:,'Which of the following cloud computing platforms do you use on a regular basis? (Select all that apply) - Selected Choice -  Google Cloud Platform (GCP) ':\n",
    "                   'Which of the following cloud computing platforms do you use on a regular basis? (Select all that apply) - Selected Choice - Other'].apply(\n",
    "    lambda x: \",\".join(x.dropna()), axis=1)\n",
    "test_list = test_list.replace({'nannannan':np.nan})\n",
    "mc['cloud_platform_used'] = test_list\n",
    "# Dropping Multiple Choice columns from range\n",
    "drop_list = mc.loc[:,'Which of the following cloud computing platforms do you use on a regular basis? (Select all that apply) - Selected Choice -  Google Cloud Platform (GCP) ':\n",
    "                   'Which of the following cloud computing platforms do you use on a regular basis? (Select all that apply) - Selected Choice - Other']\n",
    "drop_list_cols = list(drop_list.columns.values)\n",
    "mc.drop(drop_list_cols, axis=1, inplace=True)"
   ]
  },
  {
   "cell_type": "code",
   "execution_count": 21,
   "metadata": {},
   "outputs": [],
   "source": [
    "## Creating 'cloud_products_used' column\n",
    "# Assigning Multiple Choice columns into a single column with nan values\n",
    "test_list = mc.loc[:,'Which specific cloud computing products do you use on a regular basis? (Select all that apply) - Selected Choice - AWS Elastic Compute Cloud (EC2)':\n",
    "                   'Which specific cloud computing products do you use on a regular basis? (Select all that apply) - Selected Choice - Other'].apply(\n",
    "    lambda x: \",\".join(x.dropna()), axis=1)\n",
    "test_list = test_list.replace({'nannannan':np.nan})\n",
    "mc['cloud_products_used'] = test_list\n",
    "# Dropping Multiple Choice columns from range\n",
    "drop_list = mc.loc[:,'Which specific cloud computing products do you use on a regular basis? (Select all that apply) - Selected Choice - AWS Elastic Compute Cloud (EC2)':\n",
    "                   'Which specific cloud computing products do you use on a regular basis? (Select all that apply) - Selected Choice - Other']\n",
    "drop_list_cols = list(drop_list.columns.values)\n",
    "mc.drop(drop_list_cols, axis=1, inplace=True)"
   ]
  },
  {
   "cell_type": "code",
   "execution_count": 22,
   "metadata": {},
   "outputs": [],
   "source": [
    "## Creating 'bigdataanalytics_used' column\n",
    "# Assigning Multiple Choice columns into a single column with nan values\n",
    "test_list = mc.loc[:,'Which specific big data / analytics products do you use on a regular basis? (Select all that apply) - Selected Choice - Google BigQuery':\n",
    "                   'Which specific big data / analytics products do you use on a regular basis? (Select all that apply) - Selected Choice - Other'].apply(\n",
    "    lambda x: \",\".join(x.dropna()), axis=1)\n",
    "test_list = test_list.replace({'nannannan':np.nan})\n",
    "mc['bigdataanalytics_used_used'] = test_list\n",
    "# Dropping Multiple Choice columns from range\n",
    "drop_list = mc.loc[:,'Which specific big data / analytics products do you use on a regular basis? (Select all that apply) - Selected Choice - Google BigQuery':\n",
    "                   'Which specific big data / analytics products do you use on a regular basis? (Select all that apply) - Selected Choice - Other']\n",
    "drop_list_cols = list(drop_list.columns.values)\n",
    "mc.drop(drop_list_cols, axis=1, inplace=True)"
   ]
  },
  {
   "cell_type": "code",
   "execution_count": 23,
   "metadata": {},
   "outputs": [],
   "source": [
    "## Creating 'ml_products_used' column\n",
    "# Assigning Multiple Choice columns into a single column with nan values\n",
    "test_list = mc.loc[:,'Which of the following machine learning products do you use on a regular basis? (Select all that apply) - Selected Choice - SAS':\n",
    "                   'Which of the following machine learning products do you use on a regular basis? (Select all that apply) - Selected Choice - Other'].apply(\n",
    "    lambda x: \",\".join(x.dropna()), axis=1)\n",
    "test_list = test_list.replace({'nannannan':np.nan})\n",
    "mc['ml_products_used'] = test_list\n",
    "# Dropping Multiple Choice columns from range\n",
    "drop_list = mc.loc[:,'Which of the following machine learning products do you use on a regular basis? (Select all that apply) - Selected Choice - SAS':\n",
    "                   'Which of the following machine learning products do you use on a regular basis? (Select all that apply) - Selected Choice - Other']\n",
    "drop_list_cols = list(drop_list.columns.values)\n",
    "mc.drop(drop_list_cols, axis=1, inplace=True)"
   ]
  },
  {
   "cell_type": "code",
   "execution_count": 24,
   "metadata": {},
   "outputs": [],
   "source": [
    "## Creating 'automl_tools_used' column\n",
    "# Assigning Multiple Choice columns into a single column with nan values\n",
    "test_list = mc.loc[:,'Which automated machine learning tools (or partial AutoML tools) do you use on a regular basis?  (Select all that apply) - Selected Choice -  Google AutoML ':\n",
    "                   'Which automated machine learning tools (or partial AutoML tools) do you use on a regular basis?  (Select all that apply) - Selected Choice - Other'].apply(\n",
    "    lambda x: \",\".join(x.dropna()), axis=1)\n",
    "test_list = test_list.replace({'nannannan':np.nan})\n",
    "mc['automl_tools_used'] = test_list\n",
    "# Dropping Multiple Choice columns from range\n",
    "drop_list = mc.loc[:,'Which automated machine learning tools (or partial AutoML tools) do you use on a regular basis?  (Select all that apply) - Selected Choice -  Google AutoML ':\n",
    "                   'Which automated machine learning tools (or partial AutoML tools) do you use on a regular basis?  (Select all that apply) - Selected Choice - Other']\n",
    "drop_list_cols = list(drop_list.columns.values)\n",
    "mc.drop(drop_list_cols, axis=1, inplace=True)"
   ]
  },
  {
   "cell_type": "code",
   "execution_count": 25,
   "metadata": {},
   "outputs": [],
   "source": [
    "## Creating 'reldb_products_used' column\n",
    "# Assigning Multiple Choice columns into a single column with nan values\n",
    "test_list = mc.loc[:,'Which of the following relational database products do you use on a regular basis? (Select all that apply) - Selected Choice - MySQL':\n",
    "                   'Which of the following relational database products do you use on a regular basis? (Select all that apply) - Selected Choice - Other'].apply(\n",
    "    lambda x: \",\".join(x.dropna()), axis=1)\n",
    "test_list = test_list.replace({'nannannan':np.nan})\n",
    "mc['reldb_products_used'] = test_list\n",
    "# Dropping Multiple Choice columns from range\n",
    "drop_list = mc.loc[:,'Which of the following relational database products do you use on a regular basis? (Select all that apply) - Selected Choice - MySQL':\n",
    "                   'Which of the following relational database products do you use on a regular basis? (Select all that apply) - Selected Choice - Other']\n",
    "drop_list_cols = list(drop_list.columns.values)\n",
    "mc.drop(drop_list_cols, axis=1, inplace=True)"
   ]
  },
  {
   "cell_type": "code",
   "execution_count": 26,
   "metadata": {},
   "outputs": [],
   "source": [
    "# Making column names readable\n",
    "column_clean = {'Duration (in seconds)':'duration',\n",
    "                'What is your age (# years)?':'age',\n",
    "                'What is your gender? - Selected Choice':'gender',\n",
    "                'In which country do you currently reside?':'country',\n",
    "                'What is the highest level of formal education that you have attained or plan to attain within the next 2 years?':'education',\n",
    "                'Select the title most similar to your current role (or most recent title if retired): - Selected Choice':'title',\n",
    "                'What is the size of the company where you are employed?':'comp_size',\n",
    "                'Approximately how many individuals are responsible for data science workloads at your place of business?':'ds_teamsize',\n",
    "                'Does your current employer incorporate machine learning methods into their business?':'use_ml',\n",
    "                'What is your current yearly compensation (approximate $USD)?':'compensation',\n",
    "                'Approximately how much money have you spent on machine learning and/or cloud computing products at your work in the past 5 years?':'dollars_mlorcloud',\n",
    "                'What is the primary tool that you use at work or school to analyze data? (Include text response) - Selected Choice':'prim_analaysistool',\n",
    "                'How long have you been writing code to analyze data (at work or at school)?':'coding_years',\n",
    "                'Have you ever used a TPU (tensor processing unit)?':'used_tpu',\n",
    "                'For how many years have you used machine learning methods?':'ml_years'}\n",
    "mc = mc.rename(columns=column_clean)"
   ]
  },
  {
   "cell_type": "code",
   "execution_count": 27,
   "metadata": {},
   "outputs": [],
   "source": [
    "#replacing null str with NaN\n",
    "mc = mc.replace('None', np.nan)\n",
    "mc = mc.replace('', np.nan)"
   ]
  },
  {
   "cell_type": "code",
   "execution_count": 28,
   "metadata": {},
   "outputs": [
    {
     "data": {
      "text/html": [
       "<div>\n",
       "<style scoped>\n",
       "    .dataframe tbody tr th:only-of-type {\n",
       "        vertical-align: middle;\n",
       "    }\n",
       "\n",
       "    .dataframe tbody tr th {\n",
       "        vertical-align: top;\n",
       "    }\n",
       "\n",
       "    .dataframe thead th {\n",
       "        text-align: right;\n",
       "    }\n",
       "</style>\n",
       "<table border=\"1\" class=\"dataframe\">\n",
       "  <thead>\n",
       "    <tr style=\"text-align: right;\">\n",
       "      <th></th>\n",
       "      <th>duration</th>\n",
       "      <th>age</th>\n",
       "      <th>gender</th>\n",
       "      <th>country</th>\n",
       "      <th>education</th>\n",
       "      <th>title</th>\n",
       "      <th>comp_size</th>\n",
       "      <th>ds_teamsize</th>\n",
       "      <th>use_ml</th>\n",
       "      <th>compensation</th>\n",
       "      <th>...</th>\n",
       "      <th>ml_tools_used</th>\n",
       "      <th>cvision_used</th>\n",
       "      <th>nlp_methods_used</th>\n",
       "      <th>ml_frameworks_used</th>\n",
       "      <th>cloud_platform_used</th>\n",
       "      <th>cloud_products_used</th>\n",
       "      <th>bigdataanalytics_used_used</th>\n",
       "      <th>ml_products_used</th>\n",
       "      <th>automl_tools_used</th>\n",
       "      <th>reldb_products_used</th>\n",
       "    </tr>\n",
       "  </thead>\n",
       "  <tbody>\n",
       "    <tr>\n",
       "      <th>1</th>\n",
       "      <td>510</td>\n",
       "      <td>22-24</td>\n",
       "      <td>Male</td>\n",
       "      <td>France</td>\n",
       "      <td>Master’s degree</td>\n",
       "      <td>Software Engineer</td>\n",
       "      <td>1000-9,999 employees</td>\n",
       "      <td>0</td>\n",
       "      <td>I do not know</td>\n",
       "      <td>30,000-39,999</td>\n",
       "      <td>...</td>\n",
       "      <td>NaN</td>\n",
       "      <td>NaN</td>\n",
       "      <td>NaN</td>\n",
       "      <td>NaN</td>\n",
       "      <td>NaN</td>\n",
       "      <td>NaN</td>\n",
       "      <td>NaN</td>\n",
       "      <td>NaN</td>\n",
       "      <td>NaN</td>\n",
       "      <td>NaN</td>\n",
       "    </tr>\n",
       "    <tr>\n",
       "      <th>2</th>\n",
       "      <td>423</td>\n",
       "      <td>40-44</td>\n",
       "      <td>Male</td>\n",
       "      <td>India</td>\n",
       "      <td>Professional degree</td>\n",
       "      <td>Software Engineer</td>\n",
       "      <td>&gt; 10,000 employees</td>\n",
       "      <td>20+</td>\n",
       "      <td>We have well established ML methods (i.e., mod...</td>\n",
       "      <td>5,000-7,499</td>\n",
       "      <td>...</td>\n",
       "      <td>NaN</td>\n",
       "      <td>NaN</td>\n",
       "      <td>NaN</td>\n",
       "      <td>NaN</td>\n",
       "      <td>NaN</td>\n",
       "      <td>NaN</td>\n",
       "      <td>NaN</td>\n",
       "      <td>NaN</td>\n",
       "      <td>NaN</td>\n",
       "      <td>NaN</td>\n",
       "    </tr>\n",
       "    <tr>\n",
       "      <th>3</th>\n",
       "      <td>83</td>\n",
       "      <td>55-59</td>\n",
       "      <td>Female</td>\n",
       "      <td>Germany</td>\n",
       "      <td>Professional degree</td>\n",
       "      <td>NaN</td>\n",
       "      <td>NaN</td>\n",
       "      <td>NaN</td>\n",
       "      <td>NaN</td>\n",
       "      <td>NaN</td>\n",
       "      <td>...</td>\n",
       "      <td>NaN</td>\n",
       "      <td>NaN</td>\n",
       "      <td>NaN</td>\n",
       "      <td>NaN</td>\n",
       "      <td>NaN</td>\n",
       "      <td>NaN</td>\n",
       "      <td>NaN</td>\n",
       "      <td>NaN</td>\n",
       "      <td>NaN</td>\n",
       "      <td>NaN</td>\n",
       "    </tr>\n",
       "    <tr>\n",
       "      <th>4</th>\n",
       "      <td>391</td>\n",
       "      <td>40-44</td>\n",
       "      <td>Male</td>\n",
       "      <td>Australia</td>\n",
       "      <td>Master’s degree</td>\n",
       "      <td>Other</td>\n",
       "      <td>&gt; 10,000 employees</td>\n",
       "      <td>20+</td>\n",
       "      <td>I do not know</td>\n",
       "      <td>250,000-299,999</td>\n",
       "      <td>...</td>\n",
       "      <td>Automation of full ML pipelines (e.g. Google A...</td>\n",
       "      <td>General purpose image/video tools (PIL, cv2, s...</td>\n",
       "      <td>NaN</td>\n",
       "      <td>Scikit-learn ,  TensorFlow , Keras , RandomF...</td>\n",
       "      <td>Microsoft Azure</td>\n",
       "      <td>Azure Virtual Machines,Azure Container Service</td>\n",
       "      <td>Databricks,Microsoft Analysis Services</td>\n",
       "      <td>Azure Machine Learning Studio</td>\n",
       "      <td>NaN</td>\n",
       "      <td>Azure SQL Database</td>\n",
       "    </tr>\n",
       "    <tr>\n",
       "      <th>5</th>\n",
       "      <td>392</td>\n",
       "      <td>22-24</td>\n",
       "      <td>Male</td>\n",
       "      <td>India</td>\n",
       "      <td>Bachelor’s degree</td>\n",
       "      <td>Other</td>\n",
       "      <td>0-49 employees</td>\n",
       "      <td>0</td>\n",
       "      <td>No (we do not use ML methods)</td>\n",
       "      <td>4,000-4,999</td>\n",
       "      <td>...</td>\n",
       "      <td>NaN</td>\n",
       "      <td>NaN</td>\n",
       "      <td>NaN</td>\n",
       "      <td>Scikit-learn , RandomForest, Xgboost , Light...</td>\n",
       "      <td>NaN</td>\n",
       "      <td>NaN</td>\n",
       "      <td>NaN</td>\n",
       "      <td>NaN</td>\n",
       "      <td>NaN</td>\n",
       "      <td>NaN</td>\n",
       "    </tr>\n",
       "  </tbody>\n",
       "</table>\n",
       "<p>5 rows × 34 columns</p>\n",
       "</div>"
      ],
      "text/plain": [
       "0 duration    age  gender    country            education              title  \\\n",
       "1      510  22-24    Male     France      Master’s degree  Software Engineer   \n",
       "2      423  40-44    Male      India  Professional degree  Software Engineer   \n",
       "3       83  55-59  Female    Germany  Professional degree                NaN   \n",
       "4      391  40-44    Male  Australia      Master’s degree              Other   \n",
       "5      392  22-24    Male      India    Bachelor’s degree              Other   \n",
       "\n",
       "0             comp_size ds_teamsize  \\\n",
       "1  1000-9,999 employees           0   \n",
       "2    > 10,000 employees         20+   \n",
       "3                   NaN         NaN   \n",
       "4    > 10,000 employees         20+   \n",
       "5        0-49 employees           0   \n",
       "\n",
       "0                                             use_ml     compensation  \\\n",
       "1                                      I do not know    30,000-39,999   \n",
       "2  We have well established ML methods (i.e., mod...      5,000-7,499   \n",
       "3                                                NaN              NaN   \n",
       "4                                      I do not know  250,000-299,999   \n",
       "5                      No (we do not use ML methods)      4,000-4,999   \n",
       "\n",
       "0         ...                                              ml_tools_used  \\\n",
       "1         ...                                                        NaN   \n",
       "2         ...                                                        NaN   \n",
       "3         ...                                                        NaN   \n",
       "4         ...          Automation of full ML pipelines (e.g. Google A...   \n",
       "5         ...                                                        NaN   \n",
       "\n",
       "0                                       cvision_used nlp_methods_used  \\\n",
       "1                                                NaN              NaN   \n",
       "2                                                NaN              NaN   \n",
       "3                                                NaN              NaN   \n",
       "4  General purpose image/video tools (PIL, cv2, s...              NaN   \n",
       "5                                                NaN              NaN   \n",
       "\n",
       "0                                 ml_frameworks_used cloud_platform_used  \\\n",
       "1                                                NaN                 NaN   \n",
       "2                                                NaN                 NaN   \n",
       "3                                                NaN                 NaN   \n",
       "4    Scikit-learn ,  TensorFlow , Keras , RandomF...    Microsoft Azure    \n",
       "5    Scikit-learn , RandomForest, Xgboost , Light...                 NaN   \n",
       "\n",
       "0                             cloud_products_used  \\\n",
       "1                                             NaN   \n",
       "2                                             NaN   \n",
       "3                                             NaN   \n",
       "4  Azure Virtual Machines,Azure Container Service   \n",
       "5                                             NaN   \n",
       "\n",
       "0              bigdataanalytics_used_used               ml_products_used  \\\n",
       "1                                     NaN                            NaN   \n",
       "2                                     NaN                            NaN   \n",
       "3                                     NaN                            NaN   \n",
       "4  Databricks,Microsoft Analysis Services  Azure Machine Learning Studio   \n",
       "5                                     NaN                            NaN   \n",
       "\n",
       "0 automl_tools_used reldb_products_used  \n",
       "1               NaN                 NaN  \n",
       "2               NaN                 NaN  \n",
       "3               NaN                 NaN  \n",
       "4               NaN  Azure SQL Database  \n",
       "5               NaN                 NaN  \n",
       "\n",
       "[5 rows x 34 columns]"
      ]
     },
     "execution_count": 28,
     "metadata": {},
     "output_type": "execute_result"
    }
   ],
   "source": [
    "mc.head()"
   ]
  },
  {
   "cell_type": "code",
   "execution_count": 29,
   "metadata": {},
   "outputs": [
    {
     "data": {
      "text/plain": [
       "0\n",
       "duration                          0\n",
       "age                               0\n",
       "gender                            0\n",
       "country                           0\n",
       "education                       390\n",
       "title                           606\n",
       "comp_size                      5711\n",
       "ds_teamsize                    6090\n",
       "use_ml                         6486\n",
       "compensation                   7216\n",
       "dollars_mlorcloud              7463\n",
       "prim_analaysistool             4023\n",
       "coding_years                   4086\n",
       "used_tpu                       5510\n",
       "ml_years                       5531\n",
       "activities                    10487\n",
       "fav_media                      3507\n",
       "dscourse_platforms             4635\n",
       "ides_used                      5324\n",
       "notebooks_used                10447\n",
       "langs_used                     5309\n",
       "dataviz_used                   6700\n",
       "hardware_used                  5495\n",
       "ml_alg_used                    6811\n",
       "ml_tools_used                 13620\n",
       "cvision_used                  15424\n",
       "nlp_methods_used              17158\n",
       "ml_frameworks_used             7680\n",
       "cloud_platform_used           14817\n",
       "cloud_products_used           15768\n",
       "bigdataanalytics_used_used    16768\n",
       "ml_products_used              16976\n",
       "automl_tools_used             17873\n",
       "reldb_products_used           13964\n",
       "dtype: int64"
      ]
     },
     "execution_count": 29,
     "metadata": {},
     "output_type": "execute_result"
    }
   ],
   "source": [
    "#checking for null values \n",
    "mc.apply(lambda x: sum(x.isnull()))"
   ]
  },
  {
   "cell_type": "code",
   "execution_count": 30,
   "metadata": {},
   "outputs": [
    {
     "name": "stdout",
     "output_type": "stream",
     "text": [
      "\n",
      "Frequency of Categories for age\n",
      "25-29    4458\n",
      "22-24    3609\n",
      "30-34    3120\n",
      "18-21    2499\n",
      "35-39    2087\n",
      "40-44    1439\n",
      "45-49     949\n",
      "50-54     692\n",
      "55-59     422\n",
      "60-69     338\n",
      "70+       100\n",
      "Name: age, dtype: int64\n",
      "\n",
      "Frequency of Categories for gender\n",
      "Male                       16134\n",
      "Female                      3212\n",
      "Prefer not to say            318\n",
      "Prefer to self-describe       49\n",
      "Name: gender, dtype: int64\n",
      "\n",
      "Frequency of Categories for country\n",
      "India                                                   4783\n",
      "United States of America                                3084\n",
      "Other                                                   1054\n",
      "Brazil                                                   728\n",
      "Japan                                                    673\n",
      "Russia                                                   626\n",
      "China                                                    574\n",
      "Germany                                                  531\n",
      "United Kingdom of Great Britain and Northern Ireland     482\n",
      "Canada                                                   450\n",
      "Spain                                                    399\n",
      "Nigeria                                                  395\n",
      "France                                                   387\n",
      "Taiwan                                                   301\n",
      "Turkey                                                   288\n",
      "Italy                                                    271\n",
      "Australia                                                269\n",
      "Poland                                                   212\n",
      "Pakistan                                                 210\n",
      "Mexico                                                   195\n",
      "Ukraine                                                  191\n",
      "South Korea                                              182\n",
      "Colombia                                                 168\n",
      "Indonesia                                                167\n",
      "Netherlands                                              161\n",
      "Singapore                                                156\n",
      "Bangladesh                                               136\n",
      "Viet Nam                                                 128\n",
      "Argentina                                                123\n",
      "Morocco                                                  123\n",
      "Egypt                                                    122\n",
      "South Africa                                             120\n",
      "Kenya                                                    114\n",
      "Portugal                                                 114\n",
      "Greece                                                   108\n",
      "Israel                                                   104\n",
      "Switzerland                                               97\n",
      "Iran, Islamic Republic of...                              96\n",
      "Sweden                                                    92\n",
      "Chile                                                     91\n",
      "Ireland                                                   89\n",
      "Malaysia                                                  80\n",
      "Peru                                                      74\n",
      "Republic of Korea                                         73\n",
      "Belgium                                                   70\n",
      "Belarus                                                   68\n",
      "Tunisia                                                   68\n",
      "Thailand                                                  67\n",
      "Philippines                                               65\n",
      "Hong Kong (S.A.R.)                                        64\n",
      "Romania                                                   58\n",
      "Czech Republic                                            58\n",
      "Algeria                                                   58\n",
      "Hungary                                                   56\n",
      "Denmark                                                   55\n",
      "Austria                                                   53\n",
      "New Zealand                                               51\n",
      "Norway                                                    51\n",
      "Saudi Arabia                                              50\n",
      "Name: country, dtype: int64\n",
      "\n",
      "Frequency of Categories for education\n",
      "Master’s degree                                                      8549\n",
      "Bachelor’s degree                                                    5993\n",
      "Doctoral degree                                                      2767\n",
      "Some college/university study without earning a bachelor’s degree     837\n",
      "Professional degree                                                   611\n",
      "I prefer not to answer                                                333\n",
      "No formal education past high school                                  233\n",
      "Name: education, dtype: int64\n",
      "\n",
      "Frequency of Categories for title\n",
      "Data Scientist             4085\n",
      "Student                    4014\n",
      "Software Engineer          2705\n",
      "Other                      1690\n",
      "Data Analyst               1598\n",
      "Research Scientist         1470\n",
      "Not employed                942\n",
      "Business Analyst            778\n",
      "Product/Project Manager     723\n",
      "Data Engineer               624\n",
      "Statistician                322\n",
      "DBA/Database Engineer       156\n",
      "Name: title, dtype: int64\n",
      "\n",
      "Frequency of Categories for comp_size\n",
      "0-49 employees          4025\n",
      "> 10,000 employees      3160\n",
      "1000-9,999 employees    2641\n",
      "50-249 employees        2329\n",
      "250-999 employees       1847\n",
      "Name: comp_size, dtype: int64\n",
      "\n",
      "Frequency of Categories for ds_teamsize\n",
      "20+      3178\n",
      "1-2      3005\n",
      "3-4      2319\n",
      "0        1880\n",
      "5-9      1847\n",
      "10-14     967\n",
      "15-19     427\n",
      "Name: ds_teamsize, dtype: int64\n",
      "\n",
      "Frequency of Categories for use_ml\n",
      "We are exploring ML methods (and may one day put a model into production)                    2812\n",
      "We recently started using ML methods (i.e., models in production for less than 2 years)      2731\n",
      "We have well established ML methods (i.e., models in production for more than 2 years)       2528\n",
      "No (we do not use ML methods)                                                                2415\n",
      "We use ML methods for generating insights (but do not put working models into production)    1550\n",
      "I do not know                                                                                1191\n",
      "Name: use_ml, dtype: int64\n",
      "\n",
      "Frequency of Categories for compensation\n",
      "$0-999             1513\n",
      "10,000-14,999       833\n",
      "100,000-124,999     750\n",
      "30,000-39,999       728\n",
      "40,000-49,999       719\n",
      "50,000-59,999       704\n",
      "1,000-1,999         599\n",
      "60,000-69,999       576\n",
      "5,000-7,499         536\n",
      "15,000-19,999       529\n",
      "20,000-24,999       526\n",
      "70,000-79,999       524\n",
      "125,000-149,999     483\n",
      "25,000-29,999       482\n",
      "150,000-199,999     434\n",
      "7,500-9,999         408\n",
      "80,000-89,999       405\n",
      "2,000-2,999         390\n",
      "90,000-99,999       377\n",
      "3,000-3,999         305\n",
      "4,000-4,999         289\n",
      "200,000-249,999     165\n",
      "> $500,000           83\n",
      "300,000-500,000      74\n",
      "250,000-299,999      65\n",
      "Name: compensation, dtype: int64\n",
      "\n",
      "Frequency of Categories for dollars_mlorcloud\n",
      "$0 (USD)             4038\n",
      "$100-$999            2335\n",
      "$1000-$9,999         2123\n",
      "$1-$99               1485\n",
      "$10,000-$99,999      1268\n",
      "> $100,000 ($USD)    1001\n",
      "Name: dollars_mlorcloud, dtype: int64\n",
      "\n",
      "Frequency of Categories for prim_analaysistool\n",
      "Local development environments (RStudio, JupyterLab, etc.)              8475\n",
      "Basic statistical software (Microsoft Excel, Google Sheets, etc.)       3061\n",
      "Other                                                                   1190\n",
      "Cloud-based data software & APIs (AWS, GCP, Azure, etc.)                1188\n",
      "Advanced statistical software (SPSS, SAS, etc.)                          895\n",
      "Business intelligence software (Salesforce, Tableau, Spotfire, etc.)     881\n",
      "Name: prim_analaysistool, dtype: int64\n",
      "\n",
      "Frequency of Categories for coding_years\n",
      "1-2 years                    4061\n",
      "< 1 years                    3828\n",
      "3-5 years                    3365\n",
      "5-10 years                   1887\n",
      "10-20 years                  1045\n",
      "I have never written code     865\n",
      "20+ years                     576\n",
      "Name: coding_years, dtype: int64\n",
      "\n",
      "Frequency of Categories for used_tpu\n",
      "Never         11495\n",
      "Once           1320\n",
      "2-5 times      1037\n",
      "6-24 times      193\n",
      "> 25 times      158\n",
      "Name: used_tpu, dtype: int64\n",
      "\n",
      "Frequency of Categories for ml_years\n",
      "< 1 years      5149\n",
      "1-2 years      3798\n",
      "2-3 years      1840\n",
      "3-4 years      1080\n",
      "4-5 years       927\n",
      "5-10 years      869\n",
      "10-15 years     336\n",
      "20+ years       183\n",
      "Name: ml_years, dtype: int64\n"
     ]
    }
   ],
   "source": [
    "#Filter categorical variables\n",
    "categorical_columns = [x for x in mc.dtypes.index if mc.dtypes[x]=='object']\n",
    "#Exclude ID cols and source:\n",
    "categorical_columns = [x for x in mc if x not in ['duration', 'activities', 'fav_media', 'dscourse_platforms', 'ides_used',\n",
    "                      'notebooks_used', 'langs_used', 'dataviz_used', 'hardware_used', 'ml_alg_used',\n",
    "                      'ml_tools_used', 'cvision_used', 'nlp_methods_used', 'ml_frameworks_used',\n",
    "                      'cloud_platform_used', 'cloud_products_used', 'bigdataanalytics_used_used',\n",
    "                      'ml_products_used', 'automl_tools_used', 'reldb_products_used']]\n",
    "#Print frequency of all relevant categories\n",
    "for col in categorical_columns:\n",
    "    print('\\nFrequency of Categories for %s'%col)\n",
    "    print(mc[col].value_counts())"
   ]
  },
  {
   "cell_type": "code",
   "execution_count": 31,
   "metadata": {},
   "outputs": [
    {
     "data": {
      "text/html": [
       "<div>\n",
       "<style scoped>\n",
       "    .dataframe tbody tr th:only-of-type {\n",
       "        vertical-align: middle;\n",
       "    }\n",
       "\n",
       "    .dataframe tbody tr th {\n",
       "        vertical-align: top;\n",
       "    }\n",
       "\n",
       "    .dataframe thead th {\n",
       "        text-align: right;\n",
       "    }\n",
       "</style>\n",
       "<table border=\"1\" class=\"dataframe\">\n",
       "  <thead>\n",
       "    <tr style=\"text-align: right;\">\n",
       "      <th></th>\n",
       "      <th>index</th>\n",
       "      <th>age</th>\n",
       "    </tr>\n",
       "  </thead>\n",
       "  <tbody>\n",
       "    <tr>\n",
       "      <th>0</th>\n",
       "      <td>18-21</td>\n",
       "      <td>0.126769</td>\n",
       "    </tr>\n",
       "    <tr>\n",
       "      <th>1</th>\n",
       "      <td>22-24</td>\n",
       "      <td>0.183077</td>\n",
       "    </tr>\n",
       "    <tr>\n",
       "      <th>2</th>\n",
       "      <td>25-29</td>\n",
       "      <td>0.226145</td>\n",
       "    </tr>\n",
       "    <tr>\n",
       "      <th>3</th>\n",
       "      <td>30-34</td>\n",
       "      <td>0.158271</td>\n",
       "    </tr>\n",
       "    <tr>\n",
       "      <th>4</th>\n",
       "      <td>35-39</td>\n",
       "      <td>0.105869</td>\n",
       "    </tr>\n",
       "    <tr>\n",
       "      <th>5</th>\n",
       "      <td>40-44</td>\n",
       "      <td>0.072998</td>\n",
       "    </tr>\n",
       "    <tr>\n",
       "      <th>6</th>\n",
       "      <td>45-49</td>\n",
       "      <td>0.048141</td>\n",
       "    </tr>\n",
       "    <tr>\n",
       "      <th>7</th>\n",
       "      <td>50-54</td>\n",
       "      <td>0.035104</td>\n",
       "    </tr>\n",
       "    <tr>\n",
       "      <th>8</th>\n",
       "      <td>55-59</td>\n",
       "      <td>0.021407</td>\n",
       "    </tr>\n",
       "    <tr>\n",
       "      <th>9</th>\n",
       "      <td>60-69</td>\n",
       "      <td>0.017146</td>\n",
       "    </tr>\n",
       "    <tr>\n",
       "      <th>10</th>\n",
       "      <td>70+</td>\n",
       "      <td>0.005073</td>\n",
       "    </tr>\n",
       "  </tbody>\n",
       "</table>\n",
       "</div>"
      ],
      "text/plain": [
       "    index       age\n",
       "0   18-21  0.126769\n",
       "1   22-24  0.183077\n",
       "2   25-29  0.226145\n",
       "3   30-34  0.158271\n",
       "4   35-39  0.105869\n",
       "5   40-44  0.072998\n",
       "6   45-49  0.048141\n",
       "7   50-54  0.035104\n",
       "8   55-59  0.021407\n",
       "9   60-69  0.017146\n",
       "10    70+  0.005073"
      ]
     },
     "execution_count": 31,
     "metadata": {},
     "output_type": "execute_result"
    }
   ],
   "source": [
    "# Creating Age Frequency Table\n",
    "age_freq = mc['age'].value_counts(normalize=True)\n",
    "age_freq = age_freq.sort_index(axis=0)\n",
    "age_freq = age_freq.reset_index()\n",
    "age_freq = pd.DataFrame(age_freq)\n",
    "age_freq"
   ]
  },
  {
   "cell_type": "code",
   "execution_count": 38,
   "metadata": {},
   "outputs": [
    {
     "data": {
      "text/plain": [
       "Text(0.5,0,'Age Range')"
      ]
     },
     "execution_count": 38,
     "metadata": {},
     "output_type": "execute_result"
    },
    {
     "name": "stderr",
     "output_type": "stream",
     "text": [
      "/anaconda3/lib/python3.6/site-packages/matplotlib/font_manager.py:1328: UserWarning:\n",
      "\n",
      "findfont: Font family ['sans-serif'] not found. Falling back to DejaVu Sans\n",
      "\n"
     ]
    },
    {
     "data": {
      "image/png": "[encoded data removed]",
      "text/plain": [
       "<Figure size 432x288 with 1 Axes>"
      ]
     },
     "metadata": {},
     "output_type": "display_data"
    }
   ],
   "source": [
    "age_freq.plot(kind=\"bar\", x=\"index\", y =\"age\", alpha=0.5)\n",
    "plt.title('Age of Survey Respondents')\n",
    "plt.ylabel('Percentage of Users')\n",
    "plt.xlabel('Age Range')"
   ]
  },
  {
   "cell_type": "code",
   "execution_count": 33,
   "metadata": {},
   "outputs": [
    {
     "data": {
      "text/plain": [
       "Text(0.5,0.98,'Age of Survey Respondents')"
      ]
     },
     "execution_count": 33,
     "metadata": {},
     "output_type": "execute_result"
    },
    {
     "name": "stderr",
     "output_type": "stream",
     "text": [
      "/anaconda3/lib/python3.6/site-packages/matplotlib/font_manager.py:1328: UserWarning:\n",
      "\n",
      "findfont: Font family ['sans-serif'] not found. Falling back to DejaVu Sans\n",
      "\n"
     ]
    },
    {
     "data": {
      "image/png": "[encoded data removed]",
      "text/plain": [
       "<Figure size 576x360 with 1 Axes>"
      ]
     },
     "metadata": {},
     "output_type": "display_data"
    }
   ],
   "source": [
    "# Setting style for bar graphs\n",
    "import matplotlib.pyplot as plt\n",
    "%matplotlib inline\n",
    "\n",
    "# set font\n",
    "plt.rcParams['font.family'] = 'sans-serif'\n",
    "plt.rcParams['font.sans-serif'] = 'Helvetica'\n",
    "\n",
    "# set the style of the axes and the text color\n",
    "plt.rcParams['axes.edgecolor']='#333F4B'\n",
    "plt.rcParams['axes.linewidth']=0.8\n",
    "plt.rcParams['xtick.color']='#333F4B'\n",
    "plt.rcParams['ytick.color']='#333F4B'\n",
    "plt.rcParams['text.color']='#333F4B'\n",
    "\n",
    "# numeric placeholder for the y axis\n",
    "my_range=list(range(1,len(age_freq.index)+1))\n",
    "\n",
    "fig, ax = plt.subplots(figsize=(8,5))\n",
    "\n",
    "# create for each bin a vertical line that starts at y = 0 with the length \n",
    "# represented by the specific percentage.\n",
    "plt.vlines(x=my_range, ymin=0, ymax=age_freq['age'], color='#007ACC', alpha=0.5, linewidth=30)\n",
    "\n",
    "# create for each bin a dot at the level of the expense percentage value\n",
    "# plt.plot(my_range, age_freq['age'], \"o\", markersize=10, color='#007ACC', alpha=0.6)\n",
    "\n",
    "# set labels\n",
    "ax.set_xlabel('Age', fontsize=15, fontweight='black', color = '#333F4B')\n",
    "ax.set_ylabel('% of Respondents', fontsize=15, fontweight='black', color = '#333F4B')\n",
    "\n",
    "# set axis\n",
    "ax.tick_params(axis='both', which='major', labelsize=12)\n",
    "plt.xticks(my_range, age_freq['index'])\n",
    "\n",
    "# add an horizonal label for the y axis \n",
    "# fig.text(-0.15, 0.5, '% of Respondants', fontsize=15, fontweight='black', color = '#333F4B')\n",
    "\n",
    "# change the style of the axis spines\n",
    "ax.spines['top'].set_color('none')\n",
    "ax.spines['right'].set_color('none')\n",
    "ax.spines['left'].set_smart_bounds(True)\n",
    "ax.spines['bottom'].set_smart_bounds(True)\n",
    "\n",
    "# set the spines position\n",
    "ax.spines['bottom'].set_position(('axes', -0.04))\n",
    "ax.spines['left'].set_position(('axes', 0.015))\n",
    "\n",
    "# set background color\n",
    "ax.set_facecolor('white')\n",
    "\n",
    "# add margin to y-axis\n",
    "ax.margins(0.1, 0)\n",
    "\n",
    "# add title\n",
    "fig.suptitle('Age of Survey Respondents', fontsize=18, fontweight='black')\n"
   ]
  },
  {
   "cell_type": "code",
   "execution_count": 78,
   "metadata": {},
   "outputs": [
    {
     "data": {
      "text/html": [
       "<div>\n",
       "<style scoped>\n",
       "    .dataframe tbody tr th:only-of-type {\n",
       "        vertical-align: middle;\n",
       "    }\n",
       "\n",
       "    .dataframe tbody tr th {\n",
       "        vertical-align: top;\n",
       "    }\n",
       "\n",
       "    .dataframe thead th {\n",
       "        text-align: right;\n",
       "    }\n",
       "</style>\n",
       "<table border=\"1\" class=\"dataframe\">\n",
       "  <thead>\n",
       "    <tr style=\"text-align: right;\">\n",
       "      <th></th>\n",
       "      <th>index</th>\n",
       "      <th>gender</th>\n",
       "    </tr>\n",
       "  </thead>\n",
       "  <tbody>\n",
       "    <tr>\n",
       "      <th>0</th>\n",
       "      <td>Male</td>\n",
       "      <td>0.818445</td>\n",
       "    </tr>\n",
       "    <tr>\n",
       "      <th>1</th>\n",
       "      <td>Female</td>\n",
       "      <td>0.162938</td>\n",
       "    </tr>\n",
       "    <tr>\n",
       "      <th>2</th>\n",
       "      <td>Prefer not to say</td>\n",
       "      <td>0.016131</td>\n",
       "    </tr>\n",
       "    <tr>\n",
       "      <th>3</th>\n",
       "      <td>Prefer to self-describe</td>\n",
       "      <td>0.002486</td>\n",
       "    </tr>\n",
       "  </tbody>\n",
       "</table>\n",
       "</div>"
      ],
      "text/plain": [
       "                     index    gender\n",
       "0                     Male  0.818445\n",
       "1                   Female  0.162938\n",
       "2        Prefer not to say  0.016131\n",
       "3  Prefer to self-describe  0.002486"
      ]
     },
     "execution_count": 78,
     "metadata": {},
     "output_type": "execute_result"
    }
   ],
   "source": [
    "# Creating Gender Frequency Table\n",
    "gender_freq = mc['gender'].value_counts(normalize=True)\n",
    "gender_freq = gender_freq.reset_index()\n",
    "gender_freq = gender_freq.sort_index(axis=0)\n",
    "gender_freq = pd.DataFrame(gender_freq)\n",
    "gender_freq"
   ]
  },
  {
   "cell_type": "code",
   "execution_count": 79,
   "metadata": {},
   "outputs": [
    {
     "data": {
      "text/plain": [
       "Text(0.5,0,'Gender')"
      ]
     },
     "execution_count": 79,
     "metadata": {},
     "output_type": "execute_result"
    },
    {
     "name": "stderr",
     "output_type": "stream",
     "text": [
      "/anaconda3/lib/python3.6/site-packages/matplotlib/font_manager.py:1328: UserWarning:\n",
      "\n",
      "findfont: Font family ['sans-serif'] not found. Falling back to DejaVu Sans\n",
      "\n"
     ]
    },
    {
     "data": {
      "image/png": "[encoded data removed]",
      "text/plain": [
       "<Figure size 432x288 with 1 Axes>"
      ]
     },
     "metadata": {},
     "output_type": "display_data"
    }
   ],
   "source": [
    "gender_freq.plot(kind=\"bar\", x=\"index\", y =\"gender\", alpha=0.5)\n",
    "plt.title('Gender of Survey Respondents')\n",
    "plt.ylabel('Percentage of Users')\n",
    "plt.xlabel('Gender')"
   ]
  },
  {
   "cell_type": "code",
   "execution_count": 109,
   "metadata": {},
   "outputs": [
    {
     "data": {
      "text/plain": [
       "Text(0.5,0.98,'Gender of Survey Respondents')"
      ]
     },
     "execution_count": 109,
     "metadata": {},
     "output_type": "execute_result"
    },
    {
     "name": "stderr",
     "output_type": "stream",
     "text": [
      "/anaconda3/lib/python3.6/site-packages/matplotlib/font_manager.py:1328: UserWarning:\n",
      "\n",
      "findfont: Font family ['sans-serif'] not found. Falling back to DejaVu Sans\n",
      "\n"
     ]
    },
    {
     "data": {
      "image/png": "[encoded data removed]",
      "text/plain": [
       "<Figure size 576x360 with 1 Axes>"
      ]
     },
     "metadata": {},
     "output_type": "display_data"
    }
   ],
   "source": [
    "# Creating Gender Frequency Graph\n",
    "# Setting style for bar graphs\n",
    "%matplotlib inline\n",
    "\n",
    "# numeric placeholder for the y axis\n",
    "my_range=list(range(1,len(gender_freq.index)+1))\n",
    "\n",
    "fig, ax = plt.subplots(figsize=(8,5))\n",
    "\n",
    "# create for each bin a vertical line that starts at y = 0 with the length \n",
    "# represented by the specific percentage.\n",
    "plt.vlines(x=my_range, ymin=0, ymax=gender_freq['gender'], color='#007ACC', alpha=0.5, linewidth=30)\n",
    "\n",
    "# create for each bin a dot at the level of the expense percentage value\n",
    "# plt.plot(my_range, age_freq['age'], \"o\", markersize=10, color='#007ACC', alpha=0.6)\n",
    "\n",
    "# set labels\n",
    "ax.set_xlabel('Gender', fontsize=15, fontweight='black', color = '#333F4B')\n",
    "ax.set_ylabel('% of Respondents', fontsize=15, fontweight='black', color = '#333F4B')\n",
    "\n",
    "# set axis\n",
    "ax.tick_params(axis='both', which='major', labelsize=12)\n",
    "plt.xticks(my_range, gender_freq['index'])\n",
    "\n",
    "\n",
    "# change the style of the axis spines\n",
    "ax.spines['top'].set_color('none')\n",
    "ax.spines['right'].set_color('none')\n",
    "ax.spines['left'].set_smart_bounds(True)\n",
    "ax.spines['bottom'].set_smart_bounds(True)\n",
    "\n",
    "# add title\n",
    "fig.suptitle('Gender of Survey Respondents', fontsize=18, fontweight='black')"
   ]
  },
  {
   "cell_type": "code",
   "execution_count": 42,
   "metadata": {},
   "outputs": [],
   "source": [
    "# Renaming long value name\n",
    "mc['country'] = mc['country'].replace('United Kingdom of Great Britain and Northern Ireland', 'UK')\n",
    "mc['country'] = mc['country'].replace('United States of America', 'USA')\n",
    "# Creating Country Frequency Table\n",
    "country_freq = mc['country'].value_counts(normalize=True, ascending=False)\n",
    "#country_freq = country_freq.sort_index(axis=0)\n",
    "country_freq = country_freq.reset_index()\n",
    "country_freq = pd.DataFrame(country_freq)\n",
    "country_freq = country_freq.loc[country_freq['country'] >= .01]"
   ]
  },
  {
   "cell_type": "code",
   "execution_count": 76,
   "metadata": {},
   "outputs": [
    {
     "data": {
      "text/plain": [
       "Text(0.5,0,'Country')"
      ]
     },
     "execution_count": 76,
     "metadata": {},
     "output_type": "execute_result"
    },
    {
     "name": "stderr",
     "output_type": "stream",
     "text": [
      "/anaconda3/lib/python3.6/site-packages/matplotlib/font_manager.py:1328: UserWarning:\n",
      "\n",
      "findfont: Font family ['sans-serif'] not found. Falling back to DejaVu Sans\n",
      "\n"
     ]
    },
    {
     "data": {
      "image/png": "[encoded data removed]",
      "text/plain": [
       "<Figure size 720x360 with 1 Axes>"
      ]
     },
     "metadata": {},
     "output_type": "display_data"
    }
   ],
   "source": [
    "country_freq.plot(kind=\"bar\", x=\"index\", y =\"country\",figsize=(10,5), alpha=0.5)\n",
    "plt.title('Country of Survey Respondents')\n",
    "plt.ylabel('Percentage of Users')\n",
    "plt.xlabel('Country')"
   ]
  },
  {
   "cell_type": "code",
   "execution_count": 118,
   "metadata": {},
   "outputs": [
    {
     "data": {
      "text/plain": [
       "Text(0.5,0.98,'Country of Survey Respondents (> 1%)')"
      ]
     },
     "execution_count": 118,
     "metadata": {},
     "output_type": "execute_result"
    },
    {
     "name": "stderr",
     "output_type": "stream",
     "text": [
      "/anaconda3/lib/python3.6/site-packages/matplotlib/font_manager.py:1328: UserWarning:\n",
      "\n",
      "findfont: Font family ['sans-serif'] not found. Falling back to DejaVu Sans\n",
      "\n"
     ]
    },
    {
     "data": {
      "image/png": "[encoded data removed]",
      "text/plain": [
       "<Figure size 1440x432 with 1 Axes>"
      ]
     },
     "metadata": {},
     "output_type": "display_data"
    }
   ],
   "source": [
    "# Creating Country Frequency Graph\n",
    "# Setting style for bar graphs\n",
    "%matplotlib inline\n",
    "\n",
    "# numeric placeholder for the y axis\n",
    "my_range=list(range(1,len(country_freq.index)+1))\n",
    "\n",
    "fig, ax = plt.subplots(figsize=(20,6))\n",
    "\n",
    "# create for each bin a vertical line that starts at y = 0 with the length \n",
    "# represented by the specific percentage.\n",
    "plt.vlines(x=my_range, ymin=0, ymax=country_freq['country'], color='#007ACC', alpha=0.5, linewidth=20)\n",
    "\n",
    "\n",
    "# set labels\n",
    "ax.set_xlabel('Country', fontsize=15, fontweight='black', color = '#333F4B')\n",
    "ax.set_ylabel('% of Respondents', fontsize=15, fontweight='black', color = '#333F4B')\n",
    "\n",
    "# set axis\n",
    "ax.tick_params(axis='both', which='major', labelsize=12)\n",
    "plt.xticks(my_range, country_freq['index'], rotation=45)\n",
    "\n",
    "# add margin to y-axis\n",
    "ax.margins(0.05, 0.03)\n",
    "ax.set_xticklabels(country_freq['index'], rotation=90)\n",
    "\n",
    "# add title\n",
    "fig.suptitle('Country of Survey Respondents (> 1%)', fontsize=18, fontweight='black')\n"
   ]
  },
  {
   "cell_type": "code",
   "execution_count": 46,
   "metadata": {},
   "outputs": [],
   "source": [
    "# Renaming long descriptors\n",
    "mc['education'] = mc['education'].replace(\"Some college/university study without earning a bachelor’s degree\", 'Some college')\n",
    "mc['education'] = mc['education'].replace('No formal education past high school', 'High School')\n",
    "\n",
    "# Creating Education Frequency Table\n",
    "education_freq = mc['education'].value_counts(normalize=True)\n",
    "education_freq = education_freq.reset_index()\n",
    "gender_freq = education_freq.sort_index(axis=0)\n",
    "education_freq = pd.DataFrame(education_freq)"
   ]
  },
  {
   "cell_type": "code",
   "execution_count": 75,
   "metadata": {},
   "outputs": [
    {
     "data": {
      "text/plain": [
       "Text(0.5,0,'Education')"
      ]
     },
     "execution_count": 75,
     "metadata": {},
     "output_type": "execute_result"
    },
    {
     "name": "stderr",
     "output_type": "stream",
     "text": [
      "/anaconda3/lib/python3.6/site-packages/matplotlib/font_manager.py:1328: UserWarning:\n",
      "\n",
      "findfont: Font family ['sans-serif'] not found. Falling back to DejaVu Sans\n",
      "\n"
     ]
    },
    {
     "data": {
      "image/png": "[encoded data removed]",
      "text/plain": [
       "<Figure size 720x360 with 1 Axes>"
      ]
     },
     "metadata": {},
     "output_type": "display_data"
    }
   ],
   "source": [
    "education_freq.plot(kind=\"bar\", x=\"index\", y =\"education\",figsize=(10,5), alpha=0.5)\n",
    "plt.title('Education of Survey Respondents')\n",
    "plt.ylabel('Percentage of Users')\n",
    "plt.xlabel('Education')"
   ]
  },
  {
   "cell_type": "code",
   "execution_count": 126,
   "metadata": {},
   "outputs": [
    {
     "data": {
      "text/plain": [
       "Text(0.5,0.98,'Highest Education Level of Survey Respondents')"
      ]
     },
     "execution_count": 126,
     "metadata": {},
     "output_type": "execute_result"
    },
    {
     "name": "stderr",
     "output_type": "stream",
     "text": [
      "/anaconda3/lib/python3.6/site-packages/matplotlib/font_manager.py:1328: UserWarning:\n",
      "\n",
      "findfont: Font family ['sans-serif'] not found. Falling back to DejaVu Sans\n",
      "\n"
     ]
    },
    {
     "data": {
      "image/png": "[encoded data removed]",
      "text/plain": [
       "<Figure size 576x360 with 1 Axes>"
      ]
     },
     "metadata": {},
     "output_type": "display_data"
    }
   ],
   "source": [
    "# Creating Education Frequency Graph\n",
    "# Setting style for bar graphs\n",
    "%matplotlib inline\n",
    "\n",
    "# set the style of the axes and the text color\n",
    "plt.rcParams['axes.edgecolor']='#333F4B'\n",
    "plt.rcParams['axes.linewidth']=0.8\n",
    "plt.rcParams['xtick.color']='#333F4B'\n",
    "plt.rcParams['ytick.color']='#333F4B'\n",
    "plt.rcParams['text.color']='#333F4B'\n",
    "\n",
    "# numeric placeholder for the y axis\n",
    "my_range=list(range(1,len(education_freq.index)+1))\n",
    "\n",
    "fig, ax = plt.subplots(figsize=(8,5))\n",
    "\n",
    "# create for each bin a vertical line that starts at y = 0 with the length \n",
    "# represented by the specific percentage.\n",
    "plt.vlines(x=my_range, ymin=0, ymax=education_freq['education'], color='#007ACC', alpha=0.5, linewidth=20)\n",
    "\n",
    "\n",
    "# set labels\n",
    "ax.set_xlabel('Education Level', fontsize=15, fontweight='black', color = '#333F4B')\n",
    "ax.set_ylabel('% of Respondents', fontsize=15, fontweight='black', color = '#333F4B')\n",
    "\n",
    "# set axis\n",
    "ax.tick_params(axis='both', which='major', labelsize=12)\n",
    "plt.xticks(my_range, education_freq['index'])\n",
    "\n",
    "# add an horizonal label for the y axis \n",
    "# fig.text(-0.15, 0.5, '% of Respondants', fontsize=15, fontweight='black', color = '#333F4B')\n",
    "\n",
    "# change the style of the axis spines\n",
    "ax.spines['top'].set_color('none')\n",
    "ax.spines['right'].set_color('none')\n",
    "ax.spines['left'].set_smart_bounds(True)\n",
    "ax.spines['bottom'].set_smart_bounds(True)\n",
    "\n",
    "# set the spines position\n",
    "ax.spines['bottom'].set_position(('axes', -0.04))\n",
    "ax.spines['left'].set_position(('axes', 0.015))\n",
    "\n",
    "\n",
    "ax.set_xticklabels(education_freq['index'], rotation=90)\n",
    "\n",
    "# add title\n",
    "fig.suptitle('Highest Education Level of Survey Respondents', fontsize=18, fontweight='black')"
   ]
  },
  {
   "cell_type": "code",
   "execution_count": 52,
   "metadata": {},
   "outputs": [],
   "source": [
    "# Creating Title Frequency Table\n",
    "title_freq = mc['title'].value_counts(normalize=True)\n",
    "title_freq = title_freq.reset_index()\n",
    "title_freq = title_freq.sort_index(axis=0)\n",
    "title_freq = pd.DataFrame(title_freq)"
   ]
  },
  {
   "cell_type": "code",
   "execution_count": 74,
   "metadata": {},
   "outputs": [
    {
     "data": {
      "text/plain": [
       "Text(0.5,0,'Title')"
      ]
     },
     "execution_count": 74,
     "metadata": {},
     "output_type": "execute_result"
    },
    {
     "name": "stderr",
     "output_type": "stream",
     "text": [
      "/anaconda3/lib/python3.6/site-packages/matplotlib/font_manager.py:1328: UserWarning:\n",
      "\n",
      "findfont: Font family ['sans-serif'] not found. Falling back to DejaVu Sans\n",
      "\n"
     ]
    },
    {
     "data": {
      "image/png": "[encoded data removed]",
      "text/plain": [
       "<Figure size 720x360 with 1 Axes>"
      ]
     },
     "metadata": {},
     "output_type": "display_data"
    }
   ],
   "source": [
    "title_freq.plot(kind=\"bar\", x=\"index\", y =\"title\",figsize=(10,5), alpha=0.5)\n",
    "plt.title('Users Job title')\n",
    "plt.ylabel('Percentage of Users')\n",
    "plt.xlabel('Title')"
   ]
  },
  {
   "cell_type": "code",
   "execution_count": 131,
   "metadata": {},
   "outputs": [
    {
     "data": {
      "text/plain": [
       "Text(0.5,0.98,'Job Title of Survey Respondents')"
      ]
     },
     "execution_count": 131,
     "metadata": {},
     "output_type": "execute_result"
    },
    {
     "name": "stderr",
     "output_type": "stream",
     "text": [
      "/anaconda3/lib/python3.6/site-packages/matplotlib/font_manager.py:1328: UserWarning:\n",
      "\n",
      "findfont: Font family ['sans-serif'] not found. Falling back to DejaVu Sans\n",
      "\n"
     ]
    },
    {
     "data": {
      "image/png": "[encoded data removed]",
      "text/plain": [
       "<Figure size 720x432 with 1 Axes>"
      ]
     },
     "metadata": {},
     "output_type": "display_data"
    }
   ],
   "source": [
    "# Creating Title Frequency Graph\n",
    "# Setting style for bar graphs\n",
    "%matplotlib inline\n",
    "\n",
    "# numeric placeholder for the y axis\n",
    "my_range=list(range(1,len(title_freq.index)+1))\n",
    "\n",
    "fig, ax = plt.subplots(figsize=(10,6))\n",
    "\n",
    "# create for each bin a vertical line that starts at y = 0 with the length \n",
    "# represented by the specific percentage.\n",
    "plt.vlines(x=my_range, ymin=0, ymax=title_freq['title'], color='#007ACC', alpha=0.5, linewidth=15)\n",
    "\n",
    "# set labels\n",
    "ax.set_xlabel('Job Title', fontsize=15, fontweight='black', color = '#333F4B')\n",
    "ax.set_ylabel('% of Respondents', fontsize=15, fontweight='black', color = '#333F4B')\n",
    "\n",
    "# set axis\n",
    "ax.tick_params(axis='both', which='major', labelsize=12)\n",
    "plt.xticks(my_range, title_freq['index'], rotation=45)\n",
    "\n",
    "\n",
    "\n",
    "\n",
    "\n",
    "ax.set_xticklabels(title_freq['index'], rotation=90)\n",
    "\n",
    "# add title\n",
    "fig.suptitle('Job Title of Survey Respondents', fontsize=18, fontweight='black')\n"
   ]
  },
  {
   "cell_type": "code",
   "execution_count": 55,
   "metadata": {},
   "outputs": [],
   "source": [
    "# Creating Data Science Team Size Frequency Table\n",
    "ds_teamsize_freq = mc['ds_teamsize'].value_counts(normalize=True)\n",
    "ds_teamsize_freq = ds_teamsize_freq.reset_index()\n",
    "ds_teamsize_freq = ds_teamsize_freq.sort_index(axis=0)\n",
    "ds_teamsize_freq = pd.DataFrame(ds_teamsize_freq)\n"
   ]
  },
  {
   "cell_type": "code",
   "execution_count": 73,
   "metadata": {},
   "outputs": [
    {
     "data": {
      "text/plain": [
       "Text(0.5,0,'Team Size')"
      ]
     },
     "execution_count": 73,
     "metadata": {},
     "output_type": "execute_result"
    },
    {
     "name": "stderr",
     "output_type": "stream",
     "text": [
      "/anaconda3/lib/python3.6/site-packages/matplotlib/font_manager.py:1328: UserWarning:\n",
      "\n",
      "findfont: Font family ['sans-serif'] not found. Falling back to DejaVu Sans\n",
      "\n"
     ]
    },
    {
     "data": {
      "image/png": "[encoded data removed]",
      "text/plain": [
       "<Figure size 720x360 with 1 Axes>"
      ]
     },
     "metadata": {},
     "output_type": "display_data"
    }
   ],
   "source": [
    "ds_teamsize_freq .plot(kind=\"bar\", x=\"index\", y =\"ds_teamsize\",figsize=(10,5), alpha=0.5)\n",
    "plt.title('Data Science Team Size')\n",
    "plt.ylabel('Percentage of Users')\n",
    "plt.xlabel('Team Size')"
   ]
  },
  {
   "cell_type": "code",
   "execution_count": 133,
   "metadata": {},
   "outputs": [
    {
     "data": {
      "text/plain": [
       "Text(0.5,0.98,'Data Science Team Size of Survey Respondents')"
      ]
     },
     "execution_count": 133,
     "metadata": {},
     "output_type": "execute_result"
    },
    {
     "name": "stderr",
     "output_type": "stream",
     "text": [
      "/anaconda3/lib/python3.6/site-packages/matplotlib/font_manager.py:1328: UserWarning:\n",
      "\n",
      "findfont: Font family ['sans-serif'] not found. Falling back to DejaVu Sans\n",
      "\n"
     ]
    },
    {
     "data": {
      "image/png": "[encoded data removed]",
      "text/plain": [
       "<Figure size 720x432 with 1 Axes>"
      ]
     },
     "metadata": {},
     "output_type": "display_data"
    }
   ],
   "source": [
    "# Creating Data Science Team Size Frequency Graph\n",
    "# Setting style for bar graphs\n",
    "%matplotlib inline\n",
    "\n",
    "# numeric placeholder for the y axis\n",
    "my_range=list(range(1,len(ds_teamsize_freq.index)+1))\n",
    "\n",
    "fig, ax = plt.subplots(figsize=(10,6))\n",
    "\n",
    "# create for each bin a vertical line that starts at y = 0 with the length \n",
    "# represented by the specific percentage.\n",
    "plt.vlines(x=my_range, ymin=0, ymax=ds_teamsize_freq['ds_teamsize'], color='#007ACC', alpha=0.5, linewidth=15)\n",
    "\n",
    "# set labels\n",
    "ax.set_xlabel('# of People', fontsize=15, fontweight='black', color = '#333F4B')\n",
    "ax.set_ylabel('% of Respondents', fontsize=15, fontweight='black', color = '#333F4B')\n",
    "\n",
    "# set axis\n",
    "ax.tick_params(axis='both', which='major', labelsize=12)\n",
    "plt.xticks(my_range, ds_teamsize_freq['index'], rotation=45)\n",
    "\n",
    "ax.set_xticklabels(ds_teamsize_freq['index'], rotation=90)\n",
    "\n",
    "# add ds_teamsize\n",
    "fig.suptitle('Data Science Team Size of Survey Respondents', fontsize=18, fontweight='black')\n",
    "\n"
   ]
  },
  {
   "cell_type": "code",
   "execution_count": 61,
   "metadata": {},
   "outputs": [],
   "source": [
    "# Creating larger bins for compensation\n",
    "mc['compensationhi'] = mc['compensation'].str.extract(r'(?<=-|\\$)(.*$)')\n",
    "mc['compensationhi'] = mc['compensationhi'].str.replace(',','')\n",
    "mc['compensationhi'] = mc['compensationhi'].str.replace('-','')\n",
    "mc['compensationhi'] = mc['compensationhi'].str.replace('<','')\n",
    "mc['compensationhi'] = mc['compensationhi'].astype(float)\n",
    "mc['compensationbins'] = pd.cut(mc['compensationhi'], [0, 50000, 100000, 200000, 300000, 500000, 1000000], \n",
    "                                labels=['$0-50K', '$50-100K', '$100-200K', '$200-300K', '$300-500K', '$500K+'])"
   ]
  },
  {
   "cell_type": "code",
   "execution_count": 62,
   "metadata": {},
   "outputs": [
    {
     "data": {
      "text/html": [
       "<div>\n",
       "<style scoped>\n",
       "    .dataframe tbody tr th:only-of-type {\n",
       "        vertical-align: middle;\n",
       "    }\n",
       "\n",
       "    .dataframe tbody tr th {\n",
       "        vertical-align: top;\n",
       "    }\n",
       "\n",
       "    .dataframe thead th {\n",
       "        text-align: right;\n",
       "    }\n",
       "</style>\n",
       "<table border=\"1\" class=\"dataframe\">\n",
       "  <thead>\n",
       "    <tr style=\"text-align: right;\">\n",
       "      <th></th>\n",
       "      <th>index</th>\n",
       "      <th>compensationbins</th>\n",
       "    </tr>\n",
       "  </thead>\n",
       "  <tbody>\n",
       "    <tr>\n",
       "      <th>0</th>\n",
       "      <td>$0-50K</td>\n",
       "      <td>0.628711</td>\n",
       "    </tr>\n",
       "    <tr>\n",
       "      <th>1</th>\n",
       "      <td>$50-100K</td>\n",
       "      <td>0.206930</td>\n",
       "    </tr>\n",
       "    <tr>\n",
       "      <th>2</th>\n",
       "      <td>$100-200K</td>\n",
       "      <td>0.133392</td>\n",
       "    </tr>\n",
       "    <tr>\n",
       "      <th>3</th>\n",
       "      <td>$200-300K</td>\n",
       "      <td>0.018404</td>\n",
       "    </tr>\n",
       "    <tr>\n",
       "      <th>4</th>\n",
       "      <td>$300-500K</td>\n",
       "      <td>0.012563</td>\n",
       "    </tr>\n",
       "    <tr>\n",
       "      <th>5</th>\n",
       "      <td>$500K+</td>\n",
       "      <td>0.000000</td>\n",
       "    </tr>\n",
       "  </tbody>\n",
       "</table>\n",
       "</div>"
      ],
      "text/plain": [
       "       index  compensationbins\n",
       "0     $0-50K          0.628711\n",
       "1   $50-100K          0.206930\n",
       "2  $100-200K          0.133392\n",
       "3  $200-300K          0.018404\n",
       "4  $300-500K          0.012563\n",
       "5     $500K+          0.000000"
      ]
     },
     "execution_count": 62,
     "metadata": {},
     "output_type": "execute_result"
    }
   ],
   "source": [
    "# Creating Compensation Frequency Table\n",
    "compensationbins_freq = mc['compensationbins'].value_counts(normalize=True)\n",
    "compensationbins_freq = compensationbins_freq.reset_index()\n",
    "compensationbins_freq = compensationbins_freq.sort_index(axis=0)\n",
    "compensationbins_freq = pd.DataFrame(compensationbins_freq)\n",
    "compensationbins_freq"
   ]
  },
  {
   "cell_type": "code",
   "execution_count": 72,
   "metadata": {},
   "outputs": [
    {
     "data": {
      "text/plain": [
       "Text(0.5,0,'Yearly Salary')"
      ]
     },
     "execution_count": 72,
     "metadata": {},
     "output_type": "execute_result"
    },
    {
     "name": "stderr",
     "output_type": "stream",
     "text": [
      "/anaconda3/lib/python3.6/site-packages/matplotlib/font_manager.py:1328: UserWarning:\n",
      "\n",
      "findfont: Font family ['sans-serif'] not found. Falling back to DejaVu Sans\n",
      "\n"
     ]
    },
    {
     "data": {
      "image/png": "[encoded data removed]",
      "text/plain": [
       "<Figure size 720x360 with 1 Axes>"
      ]
     },
     "metadata": {},
     "output_type": "display_data"
    }
   ],
   "source": [
    "compensationbins_freq.plot(kind=\"bar\", x=\"index\", y =\"compensationbins\",figsize=(10,5), alpha=0.5)\n",
    "plt.title('Users Yearly Salary')\n",
    "plt.ylabel('Percentage of Users')\n",
    "plt.xlabel('Yearly Salary')"
   ]
  },
  {
   "cell_type": "code",
   "execution_count": 138,
   "metadata": {},
   "outputs": [
    {
     "name": "stderr",
     "output_type": "stream",
     "text": [
      "/anaconda3/lib/python3.6/site-packages/matplotlib/font_manager.py:1328: UserWarning:\n",
      "\n",
      "findfont: Font family ['sans-serif'] not found. Falling back to DejaVu Sans\n",
      "\n"
     ]
    },
    {
     "data": {
      "image/png": "[encoded data removed]",
      "text/plain": [
       "<Figure size 576x360 with 1 Axes>"
      ]
     },
     "metadata": {},
     "output_type": "display_data"
    }
   ],
   "source": [
    "# Creating Compensation Frequency Graph\n",
    "# Setting style for bar graphs\n",
    "%matplotlib inline\n",
    "\n",
    "# numeric placeholder for the y axis\n",
    "my_range=list(range(1,len(compensationbins_freq.index)+1))\n",
    "\n",
    "fig, ax = plt.subplots(figsize=(8,5))\n",
    "\n",
    "# create for each bin a vertical line that starts at y = 0 with the length \n",
    "# represented by the specific percentage.\n",
    "plt.vlines(x=my_range, ymin=0, ymax=compensationbins_freq['compensationbins'], color='#007ACC', alpha=0.5, linewidth=50)\n",
    "\n",
    "\n",
    "# set labels\n",
    "ax.set_xlabel('', fontsize=15, fontweight='black', color = '#333F4B')\n",
    "ax.set_ylabel('% of Respondents', fontsize=15, fontweight='black', color = '#333F4B')\n",
    "\n",
    "# set axis\n",
    "ax.tick_params(axis='both', which='major', labelsize=12)\n",
    "plt.xticks(my_range, compensationbins_freq['index'])\n",
    "\n",
    "\n",
    "# add title\n",
    "fig.suptitle('Annual Compensation of Survey Respondents', fontsize=18, fontweight='black')\n",
    "\n",
    "plt.savefig('compensationbins_freq.png', dpi=300, bbox_inches='tight')"
   ]
  },
  {
   "cell_type": "code",
   "execution_count": 64,
   "metadata": {},
   "outputs": [],
   "source": [
    "# Renaming bins for dollars spent\n",
    "rename = {'$0 (USD)':'$0','$100-$999':'$100-$1k',\n",
    "          '$1000-$9,999':'$1K-$10K','$1-$99':'$1-$100',\n",
    "          '$10,000-$99,999':'$10K-$100K','> $100,000 ($USD)':'$100K+'}\n",
    "mc['dollars_mlorcloud'] = mc['dollars_mlorcloud'].replace(rename)\n",
    "\n",
    "dollars_mlorcloud = mc['dollars_mlorcloud'].value_counts(normalize=True)\n",
    "dollars_mlorcloud = dollars_mlorcloud.reset_index()\n",
    "dollars_mlorcloud = dollars_mlorcloud.sort_index(axis=0)\n",
    "dollars_mlorcloud = pd.DataFrame(dollars_mlorcloud)"
   ]
  },
  {
   "cell_type": "code",
   "execution_count": 71,
   "metadata": {},
   "outputs": [
    {
     "data": {
      "text/plain": [
       "Text(0.5,0,'Spent on Ml or Cloud')"
      ]
     },
     "execution_count": 71,
     "metadata": {},
     "output_type": "execute_result"
    },
    {
     "name": "stderr",
     "output_type": "stream",
     "text": [
      "/anaconda3/lib/python3.6/site-packages/matplotlib/font_manager.py:1328: UserWarning:\n",
      "\n",
      "findfont: Font family ['sans-serif'] not found. Falling back to DejaVu Sans\n",
      "\n"
     ]
    },
    {
     "data": {
      "image/png": "[encoded data removed]",
      "text/plain": [
       "<Figure size 720x360 with 1 Axes>"
      ]
     },
     "metadata": {},
     "output_type": "display_data"
    }
   ],
   "source": [
    "dollars_mlorcloud.plot(kind=\"bar\", x=\"index\", y =\"dollars_mlorcloud\",figsize=(10,5), alpha=0.5)\n",
    "plt.ylabel('Percentage of Users')\n",
    "plt.xlabel('Spent on Ml or Cloud')"
   ]
  },
  {
   "cell_type": "code",
   "execution_count": 141,
   "metadata": {},
   "outputs": [
    {
     "name": "stderr",
     "output_type": "stream",
     "text": [
      "/anaconda3/lib/python3.6/site-packages/matplotlib/font_manager.py:1328: UserWarning:\n",
      "\n",
      "findfont: Font family ['sans-serif'] not found. Falling back to DejaVu Sans\n",
      "\n"
     ]
    },
    {
     "data": {
      "image/png": "[encoded data removed]",
      "text/plain": [
       "<Figure size 792x360 with 1 Axes>"
      ]
     },
     "metadata": {},
     "output_type": "display_data"
    }
   ],
   "source": [
    "# Creating Dollars Spent Frequency Graph\n",
    "# Setting style for bar graphs\n",
    "%matplotlib inline\n",
    "\n",
    "# numeric placeholder for the y axis\n",
    "my_range=list(range(1,len(dollars_mlorcloud.index)+1))\n",
    "\n",
    "fig, ax = plt.subplots(figsize=(11,5))\n",
    "\n",
    "# create for each bin a vertical line that starts at y = 0 with the length \n",
    "# represented by the specific percentage.\n",
    "plt.vlines(x=my_range, ymin=0, ymax=dollars_mlorcloud['dollars_mlorcloud'], color='#007ACC', alpha=0.5, linewidth=50)\n",
    "\n",
    "# set labels\n",
    "ax.set_xlabel('', fontsize=15, fontweight='black', color = '#333F4B')\n",
    "ax.set_ylabel('% of Respondents', fontsize=15, fontweight='black', color = '#333F4B')\n",
    "\n",
    "# set axis\n",
    "ax.tick_params(axis='both', which='major', labelsize=12)\n",
    "plt.xticks(my_range, dollars_mlorcloud['index'])\n",
    "\n",
    "# add title\n",
    "fig.suptitle('$ Spent on Machine Learning or Cloud Computing (Per Year)', fontsize=18, fontweight='black')\n"
   ]
  },
  {
   "cell_type": "code",
   "execution_count": 68,
   "metadata": {},
   "outputs": [],
   "source": [
    "# Renaming bins for machine learning years\n",
    "mc['ml_years'] = mc['ml_years'].str.replace(' years', '')\n",
    "\n",
    "# Creating machine learning years spent Frequency Table\n",
    "ml_years = mc['ml_years'].value_counts(normalize=True)\n",
    "ml_years = ml_years.reset_index()\n",
    "ml_years = ml_years.sort_index(axis=0)\n",
    "ml_years = pd.DataFrame(ml_years)"
   ]
  },
  {
   "cell_type": "code",
   "execution_count": 70,
   "metadata": {},
   "outputs": [
    {
     "data": {
      "text/plain": [
       "Text(0.5,0,'Experience')"
      ]
     },
     "execution_count": 70,
     "metadata": {},
     "output_type": "execute_result"
    },
    {
     "name": "stderr",
     "output_type": "stream",
     "text": [
      "/anaconda3/lib/python3.6/site-packages/matplotlib/font_manager.py:1328: UserWarning:\n",
      "\n",
      "findfont: Font family ['sans-serif'] not found. Falling back to DejaVu Sans\n",
      "\n"
     ]
    },
    {
     "data": {
      "image/png": "[encoded data removed]",
      "text/plain": [
       "<Figure size 720x360 with 1 Axes>"
      ]
     },
     "metadata": {},
     "output_type": "display_data"
    }
   ],
   "source": [
    "ml_years.plot(kind=\"bar\", x=\"index\", y =\"ml_years\",figsize=(10,5), alpha=0.5)\n",
    "plt.title('Experience of Survey Respondents')\n",
    "plt.ylabel('Percentage of Users')\n",
    "plt.xlabel('Experience')"
   ]
  },
  {
   "cell_type": "code",
   "execution_count": 143,
   "metadata": {},
   "outputs": [
    {
     "data": {
      "text/plain": [
       "Text(0.5,0.98,'# of Years Experience with Machine Learning')"
      ]
     },
     "execution_count": 143,
     "metadata": {},
     "output_type": "execute_result"
    },
    {
     "name": "stderr",
     "output_type": "stream",
     "text": [
      "/anaconda3/lib/python3.6/site-packages/matplotlib/font_manager.py:1328: UserWarning:\n",
      "\n",
      "findfont: Font family ['sans-serif'] not found. Falling back to DejaVu Sans\n",
      "\n"
     ]
    },
    {
     "data": {
      "image/png": "[encoded data removed]",
      "text/plain": [
       "<Figure size 792x360 with 1 Axes>"
      ]
     },
     "metadata": {},
     "output_type": "display_data"
    }
   ],
   "source": [
    "# Creating machine learning years Frequency Graph\n",
    "# Setting style for bar graphs\n",
    "%matplotlib inline\n",
    "\n",
    "# numeric placeholder for the y axis\n",
    "my_range=list(range(1,len(ml_years.index)+1))\n",
    "\n",
    "fig, ax = plt.subplots(figsize=(11,5))\n",
    "\n",
    "# create for each bin a vertical line that starts at y = 0 with the length \n",
    "# represented by the specific percentage.\n",
    "plt.vlines(x=my_range, ymin=0, ymax=ml_years['ml_years'], color='#007ACC', alpha=0.5, linewidth=50)\n",
    "\n",
    "# set labels\n",
    "ax.set_xlabel('', fontsize=15, fontweight='black', color = '#333F4B')\n",
    "ax.set_ylabel('% of Respondents', fontsize=15, fontweight='black', color = '#333F4B')\n",
    "\n",
    "# set axis\n",
    "ax.tick_params(axis='both', which='major', labelsize=12)\n",
    "plt.xticks(my_range, ml_years['index'])\n",
    "\n",
    "# add title\n",
    "fig.suptitle('# of Years Experience with Machine Learning', fontsize=18, fontweight='black')"
   ]
  },
  {
   "cell_type": "markdown",
   "metadata": {},
   "source": [
    "# EDA Results\n",
    "After reviewing the categorical variables, several important insights stand out:\n",
    "\n",
    "Over 20% of the survey respondents are students, and as such are not likely to help drive revenue in either a freemium kernel product or a consulting marketplace. Their information should be removed to further evaluate Kaggle's target market for these products.\n",
    "\n",
    "Nearly 25% of respondents currently reside in India, and a significant majority live outside the United States, which could make users more likely to engage in a remote consulting marketplace product.\n",
    "Over 65% of respondents currently work on a Data Science team of 3 or more people, and over 20% work on a team of 1-2 people. As a result, the vast majority of Kaggle customers are already working collaboratively on data-science related products.\n",
    "\n",
    "Over 60% of respondents make less than 50K per year. As a result, they are not likely to have a large amount of discretionary income for paid Data Science collaboration services.\n",
    "\n",
    "Over 60% of respondents work for companies who have spent nothing on Machine Learning or Cloud Computing, and have personally spent less than 2 years working with Machine Learning products."
   ]
  },
  {
   "cell_type": "markdown",
   "metadata": {},
   "source": [
    "# Further Analysis\n",
    "To continue our analysis, we will focus our dataset on only those respondents who are currently working in the data science/analysis field. These respondents are most likely to use any Kaggle products and contribute to increased revenue. To do this, we will remove 'student' values from the dataset."
   ]
  },
  {
   "cell_type": "code",
   "execution_count": 144,
   "metadata": {},
   "outputs": [
    {
     "name": "stdout",
     "output_type": "stream",
     "text": [
      "4014\n"
     ]
    }
   ],
   "source": [
    "# Get names of indexes for which title is student.\n",
    "indexNames = mc[mc['title'] == 'Student' ].index\n",
    " \n",
    "# Delete these row indexes from dataFrame\n",
    "mcclean = mc.drop(indexNames)\n",
    "print(len(mc)-len(mcclean))"
   ]
  },
  {
   "cell_type": "markdown",
   "metadata": {},
   "source": [
    "# Potential for Freemium Service\n",
    "First, we will explore the adjusted compensation percentages, having removed students (more likely to be unemployed or underemployed) from the sample."
   ]
  },
  {
   "cell_type": "code",
   "execution_count": 145,
   "metadata": {},
   "outputs": [
    {
     "name": "stdout",
     "output_type": "stream",
     "text": [
      "       index  compensationbins\n",
      "0     $0-50K          0.628711\n",
      "1   $50-100K          0.206930\n",
      "2  $100-200K          0.133392\n",
      "3  $200-300K          0.018404\n",
      "4  $300-500K          0.012563\n",
      "5     $500K+          0.000000\n"
     ]
    }
   ],
   "source": [
    "# Creating Compensation Frequency Table\n",
    "compensationbins_clean = mcclean['compensationbins'].value_counts(normalize=True)\n",
    "compensationbins_clean = compensationbins_clean.reset_index()\n",
    "compensationbins_clean = compensationbins_clean.sort_index(axis=0)\n",
    "compensationbins_clean = pd.DataFrame(compensationbins_clean)\n",
    "print(compensationbins_clean)"
   ]
  },
  {
   "cell_type": "markdown",
   "metadata": {},
   "source": [
    "Working with this smaller sample, the compensation numbers are still skewed largely to the lower-end. Over 60% of non-student Kaggle users make less than 50k per year. This means they are probably less likely to have discretionary income for a paid-subscription service.\n",
    "\n",
    "Next, we will use this reduced sample size to see how many respondents are a part of a large data science team, which would require collaboration on data science projects."
   ]
  },
  {
   "cell_type": "code",
   "execution_count": 146,
   "metadata": {},
   "outputs": [
    {
     "name": "stdout",
     "output_type": "stream",
     "text": [
      "  index  ds_teamsize\n",
      "0   20+     0.233282\n",
      "1   1-2     0.220583\n",
      "2   3-4     0.170227\n",
      "3     0     0.138002\n",
      "4   5-9     0.135580\n"
     ]
    }
   ],
   "source": [
    "# Creating Data Science Team Size Frequency Table\n",
    "ds_teamsize_clean = mcclean['ds_teamsize'].value_counts(normalize=True)\n",
    "ds_teamsize_clean = ds_teamsize_clean.reset_index()\n",
    "ds_teamsize_clean = ds_teamsize_clean.sort_index(axis=0)\n",
    "ds_teamsize_clean = pd.DataFrame(ds_teamsize_clean)\n",
    "print(ds_teamsize_clean.head())"
   ]
  },
  {
   "cell_type": "markdown",
   "metadata": {},
   "source": [
    "After removing students from the survey data, over 53% of respondents are on a data science team of 3 or more, with over 23% on a team of 20+ people. In addition, 22% are on a team of 1-2, which could mean additional opportunity for collaboration in this space.\n",
    "\n",
    "Given this number, it seems as though the overall number of people who might be interested in a collaborative freemium service is notable.\n"
   ]
  },
  {
   "cell_type": "markdown",
   "metadata": {},
   "source": [
    "# Result of Analysis\n",
    "Given the relatively low compensation rates of Kaggle users, it is unlikely that individual customers will sign up for a paid model in large numbers. And since the majority of Kaggle users come from companies of less than 1,000 employees, it is unlikely that large-scale enterprise subscriptions will be a significant revenue driver.\n",
    "\n",
    "Even when considering the potential value increase that a freemium kernel product could provide through increasing overall exposure and access, adding a freemium product is not likely to increase the overall Kaggle user base. GitHub seems to be the dominant player in this market segment, and the cost of creating and marketing a unique freemium service would likely be cost-prohibitive.\n",
    "\n",
    "According to this analysis of the current Kaggle customer base, it is unlikely that a kernel subscription service will be able to generate substantial new revenue for the company.\n",
    "\n",
    "# Alternative Solution: Potential for Consulting Marketplace\n",
    "When considering the potential value of providing a consulting marketplace, there are several factors to consider:\n",
    "\n",
    "The brand awareness to attract companies with a need for outside talent.\n",
    "The availability of talented users to provide meaningful solutions.\n",
    "\n",
    "Attracting Talented Contractors\n",
    "In addition, the survey data shows that Kaggle is already connected with a valuable pool of potential contract-based employees. As noted above, over 60% of respondents make less than 50k per year, which could be a helpful indicator of users looking to profit from contract-based data science work. The popularity of Kaggle competitions, prize winners receiving cash prizes, is an obvious indicator that Kaggle is readily connected with potential data science contractors.\n",
    "\n",
    "Also, there is a highly-qualified subset of Kaggle Users which could demand high-dollar contracts, thus increasing revenue potential for the company."
   ]
  },
  {
   "cell_type": "code",
   "execution_count": 147,
   "metadata": {},
   "outputs": [
    {
     "data": {
      "text/html": [
       "<div>\n",
       "<style scoped>\n",
       "    .dataframe tbody tr th:only-of-type {\n",
       "        vertical-align: middle;\n",
       "    }\n",
       "\n",
       "    .dataframe tbody tr th {\n",
       "        vertical-align: top;\n",
       "    }\n",
       "\n",
       "    .dataframe thead th {\n",
       "        text-align: right;\n",
       "    }\n",
       "</style>\n",
       "<table border=\"1\" class=\"dataframe\">\n",
       "  <thead>\n",
       "    <tr style=\"text-align: right;\">\n",
       "      <th></th>\n",
       "      <th>index</th>\n",
       "      <th>education</th>\n",
       "    </tr>\n",
       "  </thead>\n",
       "  <tbody>\n",
       "    <tr>\n",
       "      <th>0</th>\n",
       "      <td>Master’s degree</td>\n",
       "      <td>0.461297</td>\n",
       "    </tr>\n",
       "    <tr>\n",
       "      <th>1</th>\n",
       "      <td>Bachelor’s degree</td>\n",
       "      <td>0.275132</td>\n",
       "    </tr>\n",
       "    <tr>\n",
       "      <th>2</th>\n",
       "      <td>Doctoral degree</td>\n",
       "      <td>0.161147</td>\n",
       "    </tr>\n",
       "    <tr>\n",
       "      <th>3</th>\n",
       "      <td>Some college</td>\n",
       "      <td>0.035731</td>\n",
       "    </tr>\n",
       "    <tr>\n",
       "      <th>4</th>\n",
       "      <td>Professional degree</td>\n",
       "      <td>0.035731</td>\n",
       "    </tr>\n",
       "  </tbody>\n",
       "</table>\n",
       "</div>"
      ],
      "text/plain": [
       "                 index  education\n",
       "0      Master’s degree   0.461297\n",
       "1    Bachelor’s degree   0.275132\n",
       "2      Doctoral degree   0.161147\n",
       "3         Some college   0.035731\n",
       "4  Professional degree   0.035731"
      ]
     },
     "execution_count": 147,
     "metadata": {},
     "output_type": "execute_result"
    }
   ],
   "source": [
    "# Creating Education Frequency Table\n",
    "education_freq_clean = mcclean['education'].value_counts(normalize=True)\n",
    "education_freq_clean = education_freq_clean.reset_index()\n",
    "gender_freq_clean = education_freq_clean.sort_index(axis=0)\n",
    "education_freq_clean = pd.DataFrame(education_freq_clean)\n",
    "education_freq_clean.head()"
   ]
  },
  {
   "cell_type": "markdown",
   "metadata": {},
   "source": [
    "When \"student\" respondents are removed, over 62% of Kaggle users hold at least a Master's degree, with 16% holding a doctoral degree.\n",
    "\n",
    "Add to this the factor that nearly 25% of Kaggle respondents are from India, and over 80% live outside the United States, and there is a vast majority of users that could potentially be interested in a remote, consulting-based opportunity."
   ]
  },
  {
   "cell_type": "markdown",
   "metadata": {},
   "source": [
    "# Final Conclusions\n",
    "After exploring the results of a Kaggle user survey, our initial hypothesis is disproven. Because of the proliferation of free collaborative environments like GitHub, and the unlikely customer base for personal or enterprise subscriptions, a freemium service seems likely to increase revenue only marginally. In contrast, because of Kaggle's readily available connections with motivated employers in need of outside help, and a large user base of high-skilled potential contractors, a contractor marketplace could drive much more revenue for the cost of implementation.\n",
    "\n",
    "As a result of this analysis, we can determine that Kaggle is more likely to drive significant future revenue from a monetized consultant marketplace, rather than a freemium kernel product."
   ]
  }
 ],
 "metadata": {
  "kernelspec": {
   "display_name": "Python 3",
   "language": "python",
   "name": "python3"
  },
  "language_info": {
   "codemirror_mode": {
    "name": "ipython",
    "version": 3
   },
   "file_extension": ".py",
   "mimetype": "text/x-python",
   "name": "python",
   "nbconvert_exporter": "python",
   "pygments_lexer": "ipython3",
   "version": "3.6.5"
  }
 },
 "nbformat": 4,
 "nbformat_minor": 2
}
